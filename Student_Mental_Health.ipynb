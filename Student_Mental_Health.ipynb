{
  "cells": [
    {
      "cell_type": "markdown",
      "metadata": {
        "id": "view-in-github"
      },
      "source": [
        "<a href=\"https://colab.research.google.com/github/leusto/ciencia_de_dados/blob/main/exploratory_analysis.ipynb\" target=\"_parent\"><img src=\"https://colab.research.google.com/assets/colab-badge.svg\" alt=\"Open In Colab\"/></a>"
      ],
      "id": "view-in-github"
    },
    {
      "cell_type": "markdown",
      "source": [
        "#**Análise Exploratória de Dados**\n",
        "##*Thayná Gomes da Silva*\n",
        "\n",
        "\n",
        "\n",
        "###Case: Student Mental Health\n",
        "\n",
        "Neste caso, vamos realizar uma pesquisa estatística para analisar como a saúde mental dos estudantes pode afetar seu desempenho acadêmico, medido pelo CGPA (Cumulative Grade Point Average). Utilizaremos um conjunto de dados disponível no Kaggle que contém informações sobre o CGPA dos estudantes juntamente com dados sobre sua sexualidade, saúde mental, se faz algum tratamento etc.\n",
        "\n",
        "O objetivo desta atividade é fazer dois tipos de explorações sob os dados:\n",
        "\n",
        "1) enriquecer o conjunto de dados (dataset) com o levantamento de metadados como dimensão, tipos de atributos e medidas de resumo;\n",
        "\n",
        "2) explorar analiticamente o dataset com o uso de estatística descritiva (medida de tendência central, variabilidade) e métodos gráficos para se ter ideias de tipos de análises que podem ser realizadas. Como aqui se trata da primeira exploração de dados, a seguir serão definidas algumas propostas de análises com a finalidade de tornar os estudos mais bem direcionados. Nesse sentido, um case de estudo será definido e apresentado a seguir."
      ],
      "metadata": {
        "id": "63JM62AWKGFW"
      },
      "id": "63JM62AWKGFW"
    },
    {
      "cell_type": "markdown",
      "source": [
        "As bibliotecas utilizadas na solução deste case são:"
      ],
      "metadata": {
        "id": "SVko29okLzQX"
      },
      "id": "SVko29okLzQX"
    },
    {
      "cell_type": "code",
      "execution_count": null,
      "id": "cd229c95",
      "metadata": {
        "id": "cd229c95"
      },
      "outputs": [],
      "source": [
        "from sklearn import datasets\n",
        "import pandas as pd\n",
        "from matplotlib import pyplot as plt\n",
        "import numpy as np\n",
        "from sklearn.model_selection import KFold\n",
        "from sklearn.svm import SVC\n",
        "from sklearn.metrics import accuracy_score\n",
        "from sklearn.model_selection import train_test_split, cross_val_score\n",
        "from sklearn.metrics import classification_report, confusion_matrix"
      ]
    },
    {
      "cell_type": "markdown",
      "source": [
        "Neste case será usado um dataset disponível no kaggle, modelo cvs:"
      ],
      "metadata": {
        "id": "Mc1-rR_rLwcF"
      },
      "id": "Mc1-rR_rLwcF"
    },
    {
      "cell_type": "code",
      "execution_count": null,
      "id": "5565734b",
      "metadata": {
        "id": "5565734b",
        "colab": {
          "base_uri": "https://localhost:8080/"
        },
        "outputId": "2c8cef98-88ab-4161-9864-70e68479eeb5"
      },
      "outputs": [
        {
          "output_type": "stream",
          "name": "stdout",
          "text": [
            "               Timestamp Choose your gender   Age What is your course?  \\\n",
            "0         8/7/2020 12:02             Female  18.0          Engineering   \n",
            "1         8/7/2020 12:04               Male  21.0    Islamic education   \n",
            "2         8/7/2020 12:05               Male  19.0                  BIT   \n",
            "3         8/7/2020 12:06             Female  22.0                 Laws   \n",
            "4         8/7/2020 12:13               Male  23.0         Mathemathics   \n",
            "..                   ...                ...   ...                  ...   \n",
            "96   13/07/2020 19:56:49             Female  21.0                  BCS   \n",
            "97   13/07/2020 21:21:42               Male  18.0          Engineering   \n",
            "98   13/07/2020 21:22:56             Female  19.0             Nursing    \n",
            "99   13/07/2020 21:23:57             Female  23.0     Pendidikan Islam   \n",
            "100  18/07/2020 20:16:21               Male  20.0   Biomedical science   \n",
            "\n",
            "    Your current year of Study What is your CGPA? Marital status  \\\n",
            "0                       year 1        3.00 - 3.49             No   \n",
            "1                       year 2        3.00 - 3.49             No   \n",
            "2                       Year 1        3.00 - 3.49             No   \n",
            "3                       year 3        3.00 - 3.49            Yes   \n",
            "4                       year 4        3.00 - 3.49             No   \n",
            "..                         ...                ...            ...   \n",
            "96                      year 1        3.50 - 4.00             No   \n",
            "97                      Year 2        3.00 - 3.49             No   \n",
            "98                      Year 3        3.50 - 4.00            Yes   \n",
            "99                      year 4        3.50 - 4.00             No   \n",
            "100                     Year 2        3.00 - 3.49             No   \n",
            "\n",
            "    Do you have Depression? Do you have Anxiety? Do you have Panic attack?  \\\n",
            "0                       Yes                   No                       Yes   \n",
            "1                        No                  Yes                        No   \n",
            "2                       Yes                  Yes                       Yes   \n",
            "3                       Yes                   No                        No   \n",
            "4                        No                   No                        No   \n",
            "..                      ...                  ...                       ...   \n",
            "96                       No                  Yes                        No   \n",
            "97                      Yes                  Yes                        No   \n",
            "98                      Yes                   No                       Yes   \n",
            "99                       No                   No                        No   \n",
            "100                      No                   No                        No   \n",
            "\n",
            "    Did you seek any specialist for a treatment?  \n",
            "0                                             No  \n",
            "1                                             No  \n",
            "2                                             No  \n",
            "3                                             No  \n",
            "4                                             No  \n",
            "..                                           ...  \n",
            "96                                            No  \n",
            "97                                            No  \n",
            "98                                            No  \n",
            "99                                            No  \n",
            "100                                           No  \n",
            "\n",
            "[101 rows x 11 columns]\n"
          ]
        }
      ],
      "source": [
        "student_mental_health = pd.read_csv(\"Student Mental health.csv\")\n",
        "print(student_mental_health)"
      ]
    },
    {
      "cell_type": "markdown",
      "source": [
        "Os atributos deste dataset são:"
      ],
      "metadata": {
        "id": "l9v_HpX9MS_d"
      },
      "id": "l9v_HpX9MS_d"
    },
    {
      "cell_type": "markdown",
      "source": [
        "Vamos alterar a coluna de \"What is your CGPA?\" para transformá-lo em um número decimal."
      ],
      "metadata": {
        "id": "bP4D7J-rVsak"
      },
      "id": "bP4D7J-rVsak"
    },
    {
      "cell_type": "code",
      "source": [
        "# Função para extrair o último número após o hífen e converter em decimal\n",
        "def extract_last_number(value):\n",
        "    return float(value.split('-')[-1].strip())"
      ],
      "metadata": {
        "id": "ZNGYZpDzVoeK"
      },
      "id": "ZNGYZpDzVoeK",
      "execution_count": null,
      "outputs": []
    },
    {
      "cell_type": "code",
      "source": [
        "# Aplicando a função à coluna 'CGPA' e criando uma nova coluna 'CGPA_Decimal'\n",
        "student_mental_health['CGPA_MAX'] = student_mental_health['What is your CGPA?'].apply(extract_last_number)\n",
        "print(student_mental_health)"
      ],
      "metadata": {
        "colab": {
          "base_uri": "https://localhost:8080/"
        },
        "id": "6RwgsibnVzMw",
        "outputId": "5dff5338-8a66-4ff5-ac7b-35c3574a022c"
      },
      "id": "6RwgsibnVzMw",
      "execution_count": null,
      "outputs": [
        {
          "output_type": "stream",
          "name": "stdout",
          "text": [
            "               Timestamp Choose your gender   Age What is your course?  \\\n",
            "0         8/7/2020 12:02             Female  18.0          Engineering   \n",
            "1         8/7/2020 12:04               Male  21.0    Islamic education   \n",
            "2         8/7/2020 12:05               Male  19.0                  BIT   \n",
            "3         8/7/2020 12:06             Female  22.0                 Laws   \n",
            "4         8/7/2020 12:13               Male  23.0         Mathemathics   \n",
            "..                   ...                ...   ...                  ...   \n",
            "96   13/07/2020 19:56:49             Female  21.0                  BCS   \n",
            "97   13/07/2020 21:21:42               Male  18.0          Engineering   \n",
            "98   13/07/2020 21:22:56             Female  19.0             Nursing    \n",
            "99   13/07/2020 21:23:57             Female  23.0     Pendidikan Islam   \n",
            "100  18/07/2020 20:16:21               Male  20.0   Biomedical science   \n",
            "\n",
            "    Your current year of Study What is your CGPA? Marital status  \\\n",
            "0                       year 1        3.00 - 3.49             No   \n",
            "1                       year 2        3.00 - 3.49             No   \n",
            "2                       Year 1        3.00 - 3.49             No   \n",
            "3                       year 3        3.00 - 3.49            Yes   \n",
            "4                       year 4        3.00 - 3.49             No   \n",
            "..                         ...                ...            ...   \n",
            "96                      year 1        3.50 - 4.00             No   \n",
            "97                      Year 2        3.00 - 3.49             No   \n",
            "98                      Year 3        3.50 - 4.00            Yes   \n",
            "99                      year 4        3.50 - 4.00             No   \n",
            "100                     Year 2        3.00 - 3.49             No   \n",
            "\n",
            "    Do you have Depression? Do you have Anxiety? Do you have Panic attack?  \\\n",
            "0                       Yes                   No                       Yes   \n",
            "1                        No                  Yes                        No   \n",
            "2                       Yes                  Yes                       Yes   \n",
            "3                       Yes                   No                        No   \n",
            "4                        No                   No                        No   \n",
            "..                      ...                  ...                       ...   \n",
            "96                       No                  Yes                        No   \n",
            "97                      Yes                  Yes                        No   \n",
            "98                      Yes                   No                       Yes   \n",
            "99                       No                   No                        No   \n",
            "100                      No                   No                        No   \n",
            "\n",
            "    Did you seek any specialist for a treatment?  CGPA_MAX  \n",
            "0                                             No      3.49  \n",
            "1                                             No      3.49  \n",
            "2                                             No      3.49  \n",
            "3                                             No      3.49  \n",
            "4                                             No      3.49  \n",
            "..                                           ...       ...  \n",
            "96                                            No      4.00  \n",
            "97                                            No      3.49  \n",
            "98                                            No      4.00  \n",
            "99                                            No      4.00  \n",
            "100                                           No      3.49  \n",
            "\n",
            "[101 rows x 12 columns]\n"
          ]
        }
      ]
    },
    {
      "cell_type": "code",
      "source": [
        "X = student_mental_health.iloc[:, :11]\n",
        "y = student_mental_health['CGPA_MAX']\n",
        "student_mental_health_df = pd.concat([X,y], axis=1)\n",
        "student_mental_health_df\n",
        "student_mental_health_df.columns = ['Timestamp','Gender','Age','Course','Year of Study', \"CGPA\", 'Marital', 'Depression', 'Anxiety', 'Panic attack', 'Treatment', 'CGPA_MAX']\n",
        "print(student_mental_health_df)\n"
      ],
      "metadata": {
        "colab": {
          "base_uri": "https://localhost:8080/"
        },
        "id": "ncBw32i_Zsk0",
        "outputId": "5a8bc28a-a20b-48d6-a9fd-930a19f6cbfa"
      },
      "id": "ncBw32i_Zsk0",
      "execution_count": null,
      "outputs": [
        {
          "output_type": "stream",
          "name": "stdout",
          "text": [
            "               Timestamp  Gender   Age              Course Year of Study  \\\n",
            "0         8/7/2020 12:02  Female  18.0         Engineering        year 1   \n",
            "1         8/7/2020 12:04    Male  21.0   Islamic education        year 2   \n",
            "2         8/7/2020 12:05    Male  19.0                 BIT        Year 1   \n",
            "3         8/7/2020 12:06  Female  22.0                Laws        year 3   \n",
            "4         8/7/2020 12:13    Male  23.0        Mathemathics        year 4   \n",
            "..                   ...     ...   ...                 ...           ...   \n",
            "96   13/07/2020 19:56:49  Female  21.0                 BCS        year 1   \n",
            "97   13/07/2020 21:21:42    Male  18.0         Engineering        Year 2   \n",
            "98   13/07/2020 21:22:56  Female  19.0            Nursing         Year 3   \n",
            "99   13/07/2020 21:23:57  Female  23.0    Pendidikan Islam        year 4   \n",
            "100  18/07/2020 20:16:21    Male  20.0  Biomedical science        Year 2   \n",
            "\n",
            "            CGPA Marital Depression Anxiety Panic attack Treatment  CGPA_MAX  \n",
            "0    3.00 - 3.49      No        Yes      No          Yes        No      3.49  \n",
            "1    3.00 - 3.49      No         No     Yes           No        No      3.49  \n",
            "2    3.00 - 3.49      No        Yes     Yes          Yes        No      3.49  \n",
            "3    3.00 - 3.49     Yes        Yes      No           No        No      3.49  \n",
            "4    3.00 - 3.49      No         No      No           No        No      3.49  \n",
            "..           ...     ...        ...     ...          ...       ...       ...  \n",
            "96   3.50 - 4.00      No         No     Yes           No        No      4.00  \n",
            "97   3.00 - 3.49      No        Yes     Yes           No        No      3.49  \n",
            "98   3.50 - 4.00     Yes        Yes      No          Yes        No      4.00  \n",
            "99   3.50 - 4.00      No         No      No           No        No      4.00  \n",
            "100  3.00 - 3.49      No         No      No           No        No      3.49  \n",
            "\n",
            "[101 rows x 12 columns]\n"
          ]
        }
      ]
    },
    {
      "cell_type": "markdown",
      "source": [
        "e os tipos dos atributos:"
      ],
      "metadata": {
        "id": "hIjsE1riMwpY"
      },
      "id": "hIjsE1riMwpY"
    },
    {
      "cell_type": "code",
      "execution_count": null,
      "id": "401e5328",
      "metadata": {
        "id": "401e5328",
        "outputId": "90df0e87-9c9a-48d6-c5b3-97502436a5af",
        "colab": {
          "base_uri": "https://localhost:8080/"
        }
      },
      "outputs": [
        {
          "output_type": "execute_result",
          "data": {
            "text/plain": [
              "Timestamp                                        object\n",
              "Choose your gender                               object\n",
              "Age                                             float64\n",
              "What is your course?                             object\n",
              "Your current year of Study                       object\n",
              "What is your CGPA?                               object\n",
              "Marital status                                   object\n",
              "Do you have Depression?                          object\n",
              "Do you have Anxiety?                             object\n",
              "Do you have Panic attack?                        object\n",
              "Did you seek any specialist for a treatment?     object\n",
              "CGPA_MAX                                        float64\n",
              "dtype: object"
            ]
          },
          "metadata": {},
          "execution_count": 7
        }
      ],
      "source": [
        "student_mental_health.dtypes"
      ]
    },
    {
      "cell_type": "markdown",
      "source": [
        "o conjunto de dados tem a seguinte dimensão"
      ],
      "metadata": {
        "id": "nGZIrq0OMjui"
      },
      "id": "nGZIrq0OMjui"
    },
    {
      "cell_type": "code",
      "execution_count": null,
      "id": "2b567ed1",
      "metadata": {
        "id": "2b567ed1",
        "outputId": "9d212e13-538b-42d7-b27c-8e0f717e95e9",
        "colab": {
          "base_uri": "https://localhost:8080/"
        }
      },
      "outputs": [
        {
          "output_type": "execute_result",
          "data": {
            "text/plain": [
              "(101, 12)"
            ]
          },
          "metadata": {},
          "execution_count": 8
        }
      ],
      "source": [
        "student_mental_health.shape"
      ]
    },
    {
      "cell_type": "markdown",
      "source": [
        "Para se ter um exemplo do conjunto de dados, apresenta-se os quatro primeiros conjuntos de dados do dataset:"
      ],
      "metadata": {
        "id": "SsV7ZPSHMtN5"
      },
      "id": "SsV7ZPSHMtN5"
    },
    {
      "cell_type": "code",
      "execution_count": null,
      "id": "df92fb4d",
      "metadata": {
        "colab": {
          "base_uri": "https://localhost:8080/",
          "height": 382
        },
        "id": "df92fb4d",
        "outputId": "183ecd28-adf8-44ad-efed-08f9fd1d3a3c"
      },
      "outputs": [
        {
          "output_type": "execute_result",
          "data": {
            "text/plain": [
              "        Timestamp Choose your gender   Age What is your course?  \\\n",
              "0  8/7/2020 12:02             Female  18.0          Engineering   \n",
              "1  8/7/2020 12:04               Male  21.0    Islamic education   \n",
              "2  8/7/2020 12:05               Male  19.0                  BIT   \n",
              "3  8/7/2020 12:06             Female  22.0                 Laws   \n",
              "4  8/7/2020 12:13               Male  23.0         Mathemathics   \n",
              "\n",
              "  Your current year of Study What is your CGPA? Marital status  \\\n",
              "0                     year 1        3.00 - 3.49             No   \n",
              "1                     year 2        3.00 - 3.49             No   \n",
              "2                     Year 1        3.00 - 3.49             No   \n",
              "3                     year 3        3.00 - 3.49            Yes   \n",
              "4                     year 4        3.00 - 3.49             No   \n",
              "\n",
              "  Do you have Depression? Do you have Anxiety? Do you have Panic attack?  \\\n",
              "0                     Yes                   No                       Yes   \n",
              "1                      No                  Yes                        No   \n",
              "2                     Yes                  Yes                       Yes   \n",
              "3                     Yes                   No                        No   \n",
              "4                      No                   No                        No   \n",
              "\n",
              "  Did you seek any specialist for a treatment?  CGPA_MAX  \n",
              "0                                           No      3.49  \n",
              "1                                           No      3.49  \n",
              "2                                           No      3.49  \n",
              "3                                           No      3.49  \n",
              "4                                           No      3.49  "
            ],
            "text/html": [
              "\n",
              "  <div id=\"df-f575c27f-0f49-4b1e-bc90-b1308ff6c0bf\" class=\"colab-df-container\">\n",
              "    <div>\n",
              "<style scoped>\n",
              "    .dataframe tbody tr th:only-of-type {\n",
              "        vertical-align: middle;\n",
              "    }\n",
              "\n",
              "    .dataframe tbody tr th {\n",
              "        vertical-align: top;\n",
              "    }\n",
              "\n",
              "    .dataframe thead th {\n",
              "        text-align: right;\n",
              "    }\n",
              "</style>\n",
              "<table border=\"1\" class=\"dataframe\">\n",
              "  <thead>\n",
              "    <tr style=\"text-align: right;\">\n",
              "      <th></th>\n",
              "      <th>Timestamp</th>\n",
              "      <th>Choose your gender</th>\n",
              "      <th>Age</th>\n",
              "      <th>What is your course?</th>\n",
              "      <th>Your current year of Study</th>\n",
              "      <th>What is your CGPA?</th>\n",
              "      <th>Marital status</th>\n",
              "      <th>Do you have Depression?</th>\n",
              "      <th>Do you have Anxiety?</th>\n",
              "      <th>Do you have Panic attack?</th>\n",
              "      <th>Did you seek any specialist for a treatment?</th>\n",
              "      <th>CGPA_MAX</th>\n",
              "    </tr>\n",
              "  </thead>\n",
              "  <tbody>\n",
              "    <tr>\n",
              "      <th>0</th>\n",
              "      <td>8/7/2020 12:02</td>\n",
              "      <td>Female</td>\n",
              "      <td>18.0</td>\n",
              "      <td>Engineering</td>\n",
              "      <td>year 1</td>\n",
              "      <td>3.00 - 3.49</td>\n",
              "      <td>No</td>\n",
              "      <td>Yes</td>\n",
              "      <td>No</td>\n",
              "      <td>Yes</td>\n",
              "      <td>No</td>\n",
              "      <td>3.49</td>\n",
              "    </tr>\n",
              "    <tr>\n",
              "      <th>1</th>\n",
              "      <td>8/7/2020 12:04</td>\n",
              "      <td>Male</td>\n",
              "      <td>21.0</td>\n",
              "      <td>Islamic education</td>\n",
              "      <td>year 2</td>\n",
              "      <td>3.00 - 3.49</td>\n",
              "      <td>No</td>\n",
              "      <td>No</td>\n",
              "      <td>Yes</td>\n",
              "      <td>No</td>\n",
              "      <td>No</td>\n",
              "      <td>3.49</td>\n",
              "    </tr>\n",
              "    <tr>\n",
              "      <th>2</th>\n",
              "      <td>8/7/2020 12:05</td>\n",
              "      <td>Male</td>\n",
              "      <td>19.0</td>\n",
              "      <td>BIT</td>\n",
              "      <td>Year 1</td>\n",
              "      <td>3.00 - 3.49</td>\n",
              "      <td>No</td>\n",
              "      <td>Yes</td>\n",
              "      <td>Yes</td>\n",
              "      <td>Yes</td>\n",
              "      <td>No</td>\n",
              "      <td>3.49</td>\n",
              "    </tr>\n",
              "    <tr>\n",
              "      <th>3</th>\n",
              "      <td>8/7/2020 12:06</td>\n",
              "      <td>Female</td>\n",
              "      <td>22.0</td>\n",
              "      <td>Laws</td>\n",
              "      <td>year 3</td>\n",
              "      <td>3.00 - 3.49</td>\n",
              "      <td>Yes</td>\n",
              "      <td>Yes</td>\n",
              "      <td>No</td>\n",
              "      <td>No</td>\n",
              "      <td>No</td>\n",
              "      <td>3.49</td>\n",
              "    </tr>\n",
              "    <tr>\n",
              "      <th>4</th>\n",
              "      <td>8/7/2020 12:13</td>\n",
              "      <td>Male</td>\n",
              "      <td>23.0</td>\n",
              "      <td>Mathemathics</td>\n",
              "      <td>year 4</td>\n",
              "      <td>3.00 - 3.49</td>\n",
              "      <td>No</td>\n",
              "      <td>No</td>\n",
              "      <td>No</td>\n",
              "      <td>No</td>\n",
              "      <td>No</td>\n",
              "      <td>3.49</td>\n",
              "    </tr>\n",
              "  </tbody>\n",
              "</table>\n",
              "</div>\n",
              "    <div class=\"colab-df-buttons\">\n",
              "\n",
              "  <div class=\"colab-df-container\">\n",
              "    <button class=\"colab-df-convert\" onclick=\"convertToInteractive('df-f575c27f-0f49-4b1e-bc90-b1308ff6c0bf')\"\n",
              "            title=\"Convert this dataframe to an interactive table.\"\n",
              "            style=\"display:none;\">\n",
              "\n",
              "  <svg xmlns=\"http://www.w3.org/2000/svg\" height=\"24px\" viewBox=\"0 -960 960 960\">\n",
              "    <path d=\"M120-120v-720h720v720H120Zm60-500h600v-160H180v160Zm220 220h160v-160H400v160Zm0 220h160v-160H400v160ZM180-400h160v-160H180v160Zm440 0h160v-160H620v160ZM180-180h160v-160H180v160Zm440 0h160v-160H620v160Z\"/>\n",
              "  </svg>\n",
              "    </button>\n",
              "\n",
              "  <style>\n",
              "    .colab-df-container {\n",
              "      display:flex;\n",
              "      gap: 12px;\n",
              "    }\n",
              "\n",
              "    .colab-df-convert {\n",
              "      background-color: #E8F0FE;\n",
              "      border: none;\n",
              "      border-radius: 50%;\n",
              "      cursor: pointer;\n",
              "      display: none;\n",
              "      fill: #1967D2;\n",
              "      height: 32px;\n",
              "      padding: 0 0 0 0;\n",
              "      width: 32px;\n",
              "    }\n",
              "\n",
              "    .colab-df-convert:hover {\n",
              "      background-color: #E2EBFA;\n",
              "      box-shadow: 0px 1px 2px rgba(60, 64, 67, 0.3), 0px 1px 3px 1px rgba(60, 64, 67, 0.15);\n",
              "      fill: #174EA6;\n",
              "    }\n",
              "\n",
              "    .colab-df-buttons div {\n",
              "      margin-bottom: 4px;\n",
              "    }\n",
              "\n",
              "    [theme=dark] .colab-df-convert {\n",
              "      background-color: #3B4455;\n",
              "      fill: #D2E3FC;\n",
              "    }\n",
              "\n",
              "    [theme=dark] .colab-df-convert:hover {\n",
              "      background-color: #434B5C;\n",
              "      box-shadow: 0px 1px 3px 1px rgba(0, 0, 0, 0.15);\n",
              "      filter: drop-shadow(0px 1px 2px rgba(0, 0, 0, 0.3));\n",
              "      fill: #FFFFFF;\n",
              "    }\n",
              "  </style>\n",
              "\n",
              "    <script>\n",
              "      const buttonEl =\n",
              "        document.querySelector('#df-f575c27f-0f49-4b1e-bc90-b1308ff6c0bf button.colab-df-convert');\n",
              "      buttonEl.style.display =\n",
              "        google.colab.kernel.accessAllowed ? 'block' : 'none';\n",
              "\n",
              "      async function convertToInteractive(key) {\n",
              "        const element = document.querySelector('#df-f575c27f-0f49-4b1e-bc90-b1308ff6c0bf');\n",
              "        const dataTable =\n",
              "          await google.colab.kernel.invokeFunction('convertToInteractive',\n",
              "                                                    [key], {});\n",
              "        if (!dataTable) return;\n",
              "\n",
              "        const docLinkHtml = 'Like what you see? Visit the ' +\n",
              "          '<a target=\"_blank\" href=https://colab.research.google.com/notebooks/data_table.ipynb>data table notebook</a>'\n",
              "          + ' to learn more about interactive tables.';\n",
              "        element.innerHTML = '';\n",
              "        dataTable['output_type'] = 'display_data';\n",
              "        await google.colab.output.renderOutput(dataTable, element);\n",
              "        const docLink = document.createElement('div');\n",
              "        docLink.innerHTML = docLinkHtml;\n",
              "        element.appendChild(docLink);\n",
              "      }\n",
              "    </script>\n",
              "  </div>\n",
              "\n",
              "\n",
              "<div id=\"df-8fcdc3f6-50c4-451f-a458-d9d6cb3a67c2\">\n",
              "  <button class=\"colab-df-quickchart\" onclick=\"quickchart('df-8fcdc3f6-50c4-451f-a458-d9d6cb3a67c2')\"\n",
              "            title=\"Suggest charts.\"\n",
              "            style=\"display:none;\">\n",
              "\n",
              "<svg xmlns=\"http://www.w3.org/2000/svg\" height=\"24px\"viewBox=\"0 0 24 24\"\n",
              "     width=\"24px\">\n",
              "    <g>\n",
              "        <path d=\"M19 3H5c-1.1 0-2 .9-2 2v14c0 1.1.9 2 2 2h14c1.1 0 2-.9 2-2V5c0-1.1-.9-2-2-2zM9 17H7v-7h2v7zm4 0h-2V7h2v10zm4 0h-2v-4h2v4z\"/>\n",
              "    </g>\n",
              "</svg>\n",
              "  </button>\n",
              "\n",
              "<style>\n",
              "  .colab-df-quickchart {\n",
              "      --bg-color: #E8F0FE;\n",
              "      --fill-color: #1967D2;\n",
              "      --hover-bg-color: #E2EBFA;\n",
              "      --hover-fill-color: #174EA6;\n",
              "      --disabled-fill-color: #AAA;\n",
              "      --disabled-bg-color: #DDD;\n",
              "  }\n",
              "\n",
              "  [theme=dark] .colab-df-quickchart {\n",
              "      --bg-color: #3B4455;\n",
              "      --fill-color: #D2E3FC;\n",
              "      --hover-bg-color: #434B5C;\n",
              "      --hover-fill-color: #FFFFFF;\n",
              "      --disabled-bg-color: #3B4455;\n",
              "      --disabled-fill-color: #666;\n",
              "  }\n",
              "\n",
              "  .colab-df-quickchart {\n",
              "    background-color: var(--bg-color);\n",
              "    border: none;\n",
              "    border-radius: 50%;\n",
              "    cursor: pointer;\n",
              "    display: none;\n",
              "    fill: var(--fill-color);\n",
              "    height: 32px;\n",
              "    padding: 0;\n",
              "    width: 32px;\n",
              "  }\n",
              "\n",
              "  .colab-df-quickchart:hover {\n",
              "    background-color: var(--hover-bg-color);\n",
              "    box-shadow: 0 1px 2px rgba(60, 64, 67, 0.3), 0 1px 3px 1px rgba(60, 64, 67, 0.15);\n",
              "    fill: var(--button-hover-fill-color);\n",
              "  }\n",
              "\n",
              "  .colab-df-quickchart-complete:disabled,\n",
              "  .colab-df-quickchart-complete:disabled:hover {\n",
              "    background-color: var(--disabled-bg-color);\n",
              "    fill: var(--disabled-fill-color);\n",
              "    box-shadow: none;\n",
              "  }\n",
              "\n",
              "  .colab-df-spinner {\n",
              "    border: 2px solid var(--fill-color);\n",
              "    border-color: transparent;\n",
              "    border-bottom-color: var(--fill-color);\n",
              "    animation:\n",
              "      spin 1s steps(1) infinite;\n",
              "  }\n",
              "\n",
              "  @keyframes spin {\n",
              "    0% {\n",
              "      border-color: transparent;\n",
              "      border-bottom-color: var(--fill-color);\n",
              "      border-left-color: var(--fill-color);\n",
              "    }\n",
              "    20% {\n",
              "      border-color: transparent;\n",
              "      border-left-color: var(--fill-color);\n",
              "      border-top-color: var(--fill-color);\n",
              "    }\n",
              "    30% {\n",
              "      border-color: transparent;\n",
              "      border-left-color: var(--fill-color);\n",
              "      border-top-color: var(--fill-color);\n",
              "      border-right-color: var(--fill-color);\n",
              "    }\n",
              "    40% {\n",
              "      border-color: transparent;\n",
              "      border-right-color: var(--fill-color);\n",
              "      border-top-color: var(--fill-color);\n",
              "    }\n",
              "    60% {\n",
              "      border-color: transparent;\n",
              "      border-right-color: var(--fill-color);\n",
              "    }\n",
              "    80% {\n",
              "      border-color: transparent;\n",
              "      border-right-color: var(--fill-color);\n",
              "      border-bottom-color: var(--fill-color);\n",
              "    }\n",
              "    90% {\n",
              "      border-color: transparent;\n",
              "      border-bottom-color: var(--fill-color);\n",
              "    }\n",
              "  }\n",
              "</style>\n",
              "\n",
              "  <script>\n",
              "    async function quickchart(key) {\n",
              "      const quickchartButtonEl =\n",
              "        document.querySelector('#' + key + ' button');\n",
              "      quickchartButtonEl.disabled = true;  // To prevent multiple clicks.\n",
              "      quickchartButtonEl.classList.add('colab-df-spinner');\n",
              "      try {\n",
              "        const charts = await google.colab.kernel.invokeFunction(\n",
              "            'suggestCharts', [key], {});\n",
              "      } catch (error) {\n",
              "        console.error('Error during call to suggestCharts:', error);\n",
              "      }\n",
              "      quickchartButtonEl.classList.remove('colab-df-spinner');\n",
              "      quickchartButtonEl.classList.add('colab-df-quickchart-complete');\n",
              "    }\n",
              "    (() => {\n",
              "      let quickchartButtonEl =\n",
              "        document.querySelector('#df-8fcdc3f6-50c4-451f-a458-d9d6cb3a67c2 button');\n",
              "      quickchartButtonEl.style.display =\n",
              "        google.colab.kernel.accessAllowed ? 'block' : 'none';\n",
              "    })();\n",
              "  </script>\n",
              "</div>\n",
              "    </div>\n",
              "  </div>\n"
            ]
          },
          "metadata": {},
          "execution_count": 9
        }
      ],
      "source": [
        "student_mental_health.head()"
      ]
    },
    {
      "cell_type": "markdown",
      "id": "1dee143d",
      "metadata": {
        "id": "1dee143d"
      },
      "source": [
        "Para fins de análise em muitas situações é importante manipular partes específicas do dataset. Apresenta-se a seguir algumas opções de seleção de dados.\n",
        "\n",
        "A primeira é selecionando uma coluna do conjunto de dsdos por nome do atributo (dataframe):"
      ]
    },
    {
      "cell_type": "code",
      "execution_count": null,
      "id": "160e7ef8",
      "metadata": {
        "id": "160e7ef8",
        "outputId": "2b7edb61-042f-497b-891a-ed0e24966e69",
        "colab": {
          "base_uri": "https://localhost:8080/"
        }
      },
      "outputs": [
        {
          "output_type": "stream",
          "name": "stdout",
          "text": [
            "0      18.0\n",
            "1      21.0\n",
            "2      19.0\n",
            "3      22.0\n",
            "4      23.0\n",
            "       ... \n",
            "96     21.0\n",
            "97     18.0\n",
            "98     19.0\n",
            "99     23.0\n",
            "100    20.0\n",
            "Name: Age, Length: 101, dtype: float64\n"
          ]
        }
      ],
      "source": [
        "Age = student_mental_health_df[\"Age\"]\n",
        "print(Age)"
      ]
    },
    {
      "cell_type": "markdown",
      "source": [
        "De forma equivalente se pode manipular pelo indice da coluna (matricial):"
      ],
      "metadata": {
        "id": "lnpybNrvOvnx"
      },
      "id": "lnpybNrvOvnx"
    },
    {
      "cell_type": "code",
      "execution_count": null,
      "id": "a67406fd",
      "metadata": {
        "id": "a67406fd",
        "outputId": "373de876-2c2c-445f-fcff-7497fe877be0",
        "colab": {
          "base_uri": "https://localhost:8080/"
        }
      },
      "outputs": [
        {
          "output_type": "execute_result",
          "data": {
            "text/plain": [
              "0      18.0\n",
              "1      21.0\n",
              "2      19.0\n",
              "3      22.0\n",
              "4      23.0\n",
              "       ... \n",
              "96     21.0\n",
              "97     18.0\n",
              "98     19.0\n",
              "99     23.0\n",
              "100    20.0\n",
              "Name: Age, Length: 101, dtype: float64"
            ]
          },
          "metadata": {},
          "execution_count": 11
        }
      ],
      "source": [
        "Age = student_mental_health_df.iloc[: ,2]\n",
        "Age"
      ]
    },
    {
      "cell_type": "markdown",
      "id": "75209e7e",
      "metadata": {
        "id": "75209e7e"
      },
      "source": [
        "Pode-se ainda selecionar mais de uma coluna do conjunto de dados:"
      ]
    },
    {
      "cell_type": "code",
      "execution_count": null,
      "id": "5f972c6f",
      "metadata": {
        "id": "5f972c6f",
        "outputId": "6de6deb0-5b8e-41f3-98cf-135fbf59b65d",
        "colab": {
          "base_uri": "https://localhost:8080/"
        }
      },
      "outputs": [
        {
          "output_type": "stream",
          "name": "stdout",
          "text": [
            "               Timestamp  Gender\n",
            "0         8/7/2020 12:02  Female\n",
            "1         8/7/2020 12:04    Male\n",
            "2         8/7/2020 12:05    Male\n",
            "3         8/7/2020 12:06  Female\n",
            "4         8/7/2020 12:13    Male\n",
            "..                   ...     ...\n",
            "96   13/07/2020 19:56:49  Female\n",
            "97   13/07/2020 21:21:42    Male\n",
            "98   13/07/2020 21:22:56  Female\n",
            "99   13/07/2020 21:23:57  Female\n",
            "100  18/07/2020 20:16:21    Male\n",
            "\n",
            "[101 rows x 2 columns]\n"
          ]
        }
      ],
      "source": [
        "sel_cols = student_mental_health_df.iloc[:,[0,1]]\n",
        "print(sel_cols)"
      ]
    },
    {
      "cell_type": "markdown",
      "source": [
        "Podemos verificar se há valores ausentes no df:"
      ],
      "metadata": {
        "id": "F4jYapTj0_CP"
      },
      "id": "F4jYapTj0_CP"
    },
    {
      "cell_type": "code",
      "source": [
        "if student_mental_health_df.isna().any().any():\n",
        "    print(\"Existem valores ausentes no DataFrame.\")\n",
        "else:\n",
        "    print(\"Não há valores ausentes no DataFrame.\")"
      ],
      "metadata": {
        "colab": {
          "base_uri": "https://localhost:8080/"
        },
        "id": "fpchcNal0973",
        "outputId": "0314ed7a-5c66-45c8-d576-894c8bda592d"
      },
      "id": "fpchcNal0973",
      "execution_count": null,
      "outputs": [
        {
          "output_type": "stream",
          "name": "stdout",
          "text": [
            "Existem valores ausentes no DataFrame.\n"
          ]
        }
      ]
    },
    {
      "cell_type": "code",
      "source": [
        "missing_values = student_mental_health_df.isnull().sum()\n",
        "print(missing_values)\n"
      ],
      "metadata": {
        "colab": {
          "base_uri": "https://localhost:8080/"
        },
        "id": "AOWyZfIU1v13",
        "outputId": "5581b76b-fe43-4b05-c3ee-4d013d048fb3"
      },
      "id": "AOWyZfIU1v13",
      "execution_count": null,
      "outputs": [
        {
          "output_type": "stream",
          "name": "stdout",
          "text": [
            "Timestamp        0\n",
            "Gender           0\n",
            "Age              1\n",
            "Course           0\n",
            "Year of Study    0\n",
            "CGPA             0\n",
            "Marital          0\n",
            "Depression       0\n",
            "Anxiety          0\n",
            "Panic attack     0\n",
            "Treatment        0\n",
            "CGPA_MAX         0\n",
            "dtype: int64\n"
          ]
        }
      ]
    },
    {
      "cell_type": "code",
      "source": [
        "student_mental_health_df = student_mental_health_df.dropna()\n",
        "missing_values = student_mental_health_df.isnull().sum()\n",
        "print(missing_values)"
      ],
      "metadata": {
        "colab": {
          "base_uri": "https://localhost:8080/"
        },
        "id": "xkBoUEjI2gnz",
        "outputId": "1457d8ab-0d0d-41b9-9cb9-0137e5da03eb"
      },
      "id": "xkBoUEjI2gnz",
      "execution_count": null,
      "outputs": [
        {
          "output_type": "stream",
          "name": "stdout",
          "text": [
            "Timestamp        0\n",
            "Gender           0\n",
            "Age              0\n",
            "Course           0\n",
            "Year of Study    0\n",
            "CGPA             0\n",
            "Marital          0\n",
            "Depression       0\n",
            "Anxiety          0\n",
            "Panic attack     0\n",
            "Treatment        0\n",
            "CGPA_MAX         0\n",
            "dtype: int64\n"
          ]
        }
      ]
    },
    {
      "cell_type": "code",
      "source": [
        "student_mental_health_df.shape"
      ],
      "metadata": {
        "colab": {
          "base_uri": "https://localhost:8080/"
        },
        "id": "R_2ZiwbC3Ytx",
        "outputId": "98fe3057-1c7f-439c-a726-f34de33b1d8b"
      },
      "id": "R_2ZiwbC3Ytx",
      "execution_count": null,
      "outputs": [
        {
          "output_type": "execute_result",
          "data": {
            "text/plain": [
              "(100, 12)"
            ]
          },
          "metadata": {},
          "execution_count": 16
        }
      ]
    },
    {
      "cell_type": "markdown",
      "id": "92d91076",
      "metadata": {
        "id": "92d91076"
      },
      "source": [
        "\n",
        "De forma análoga a manipulação de atributos, pode-se manipular as linhas como segue o exemplo abaixo que seleciona os cinco primeiros conjuntos de dados e as duas primeiras colunas do dataset:"
      ]
    },
    {
      "cell_type": "code",
      "execution_count": null,
      "id": "ef272da8",
      "metadata": {
        "id": "ef272da8",
        "outputId": "d32a645a-88ce-4cbf-d652-8cd100f72fd0",
        "colab": {
          "base_uri": "https://localhost:8080/"
        }
      },
      "outputs": [
        {
          "output_type": "stream",
          "name": "stdout",
          "text": [
            "        Timestamp  Gender\n",
            "0  8/7/2020 12:02  Female\n",
            "1  8/7/2020 12:04    Male\n",
            "2  8/7/2020 12:05    Male\n",
            "3  8/7/2020 12:06  Female\n",
            "4  8/7/2020 12:13    Male\n"
          ]
        }
      ],
      "source": [
        "sel_rows = student_mental_health_df.iloc[0:5,[0,1]]\n",
        "print(sel_rows)"
      ]
    },
    {
      "cell_type": "markdown",
      "source": [
        "Agora inicia-se a etapa de análise exploratória de dados. A primeira análise é feita por um resumo estatístico do conjunto de dados:"
      ],
      "metadata": {
        "id": "KANGGT3zPYRY"
      },
      "id": "KANGGT3zPYRY"
    },
    {
      "cell_type": "code",
      "execution_count": null,
      "id": "1c5b07cc",
      "metadata": {
        "id": "1c5b07cc",
        "colab": {
          "base_uri": "https://localhost:8080/",
          "height": 300
        },
        "outputId": "69de7c93-d911-4443-d235-f6cb923c51bb"
      },
      "outputs": [
        {
          "output_type": "execute_result",
          "data": {
            "text/plain": [
              "             Age   CGPA_MAX\n",
              "count  100.00000  100.00000\n",
              "mean    20.53000    3.64980\n",
              "std      2.49628    0.44587\n",
              "min     18.00000    1.99000\n",
              "25%     18.00000    3.49000\n",
              "50%     19.00000    3.49000\n",
              "75%     23.00000    4.00000\n",
              "max     24.00000    4.00000"
            ],
            "text/html": [
              "\n",
              "  <div id=\"df-cf3a0ffa-4a82-403b-816c-2d9a958f355b\" class=\"colab-df-container\">\n",
              "    <div>\n",
              "<style scoped>\n",
              "    .dataframe tbody tr th:only-of-type {\n",
              "        vertical-align: middle;\n",
              "    }\n",
              "\n",
              "    .dataframe tbody tr th {\n",
              "        vertical-align: top;\n",
              "    }\n",
              "\n",
              "    .dataframe thead th {\n",
              "        text-align: right;\n",
              "    }\n",
              "</style>\n",
              "<table border=\"1\" class=\"dataframe\">\n",
              "  <thead>\n",
              "    <tr style=\"text-align: right;\">\n",
              "      <th></th>\n",
              "      <th>Age</th>\n",
              "      <th>CGPA_MAX</th>\n",
              "    </tr>\n",
              "  </thead>\n",
              "  <tbody>\n",
              "    <tr>\n",
              "      <th>count</th>\n",
              "      <td>100.00000</td>\n",
              "      <td>100.00000</td>\n",
              "    </tr>\n",
              "    <tr>\n",
              "      <th>mean</th>\n",
              "      <td>20.53000</td>\n",
              "      <td>3.64980</td>\n",
              "    </tr>\n",
              "    <tr>\n",
              "      <th>std</th>\n",
              "      <td>2.49628</td>\n",
              "      <td>0.44587</td>\n",
              "    </tr>\n",
              "    <tr>\n",
              "      <th>min</th>\n",
              "      <td>18.00000</td>\n",
              "      <td>1.99000</td>\n",
              "    </tr>\n",
              "    <tr>\n",
              "      <th>25%</th>\n",
              "      <td>18.00000</td>\n",
              "      <td>3.49000</td>\n",
              "    </tr>\n",
              "    <tr>\n",
              "      <th>50%</th>\n",
              "      <td>19.00000</td>\n",
              "      <td>3.49000</td>\n",
              "    </tr>\n",
              "    <tr>\n",
              "      <th>75%</th>\n",
              "      <td>23.00000</td>\n",
              "      <td>4.00000</td>\n",
              "    </tr>\n",
              "    <tr>\n",
              "      <th>max</th>\n",
              "      <td>24.00000</td>\n",
              "      <td>4.00000</td>\n",
              "    </tr>\n",
              "  </tbody>\n",
              "</table>\n",
              "</div>\n",
              "    <div class=\"colab-df-buttons\">\n",
              "\n",
              "  <div class=\"colab-df-container\">\n",
              "    <button class=\"colab-df-convert\" onclick=\"convertToInteractive('df-cf3a0ffa-4a82-403b-816c-2d9a958f355b')\"\n",
              "            title=\"Convert this dataframe to an interactive table.\"\n",
              "            style=\"display:none;\">\n",
              "\n",
              "  <svg xmlns=\"http://www.w3.org/2000/svg\" height=\"24px\" viewBox=\"0 -960 960 960\">\n",
              "    <path d=\"M120-120v-720h720v720H120Zm60-500h600v-160H180v160Zm220 220h160v-160H400v160Zm0 220h160v-160H400v160ZM180-400h160v-160H180v160Zm440 0h160v-160H620v160ZM180-180h160v-160H180v160Zm440 0h160v-160H620v160Z\"/>\n",
              "  </svg>\n",
              "    </button>\n",
              "\n",
              "  <style>\n",
              "    .colab-df-container {\n",
              "      display:flex;\n",
              "      gap: 12px;\n",
              "    }\n",
              "\n",
              "    .colab-df-convert {\n",
              "      background-color: #E8F0FE;\n",
              "      border: none;\n",
              "      border-radius: 50%;\n",
              "      cursor: pointer;\n",
              "      display: none;\n",
              "      fill: #1967D2;\n",
              "      height: 32px;\n",
              "      padding: 0 0 0 0;\n",
              "      width: 32px;\n",
              "    }\n",
              "\n",
              "    .colab-df-convert:hover {\n",
              "      background-color: #E2EBFA;\n",
              "      box-shadow: 0px 1px 2px rgba(60, 64, 67, 0.3), 0px 1px 3px 1px rgba(60, 64, 67, 0.15);\n",
              "      fill: #174EA6;\n",
              "    }\n",
              "\n",
              "    .colab-df-buttons div {\n",
              "      margin-bottom: 4px;\n",
              "    }\n",
              "\n",
              "    [theme=dark] .colab-df-convert {\n",
              "      background-color: #3B4455;\n",
              "      fill: #D2E3FC;\n",
              "    }\n",
              "\n",
              "    [theme=dark] .colab-df-convert:hover {\n",
              "      background-color: #434B5C;\n",
              "      box-shadow: 0px 1px 3px 1px rgba(0, 0, 0, 0.15);\n",
              "      filter: drop-shadow(0px 1px 2px rgba(0, 0, 0, 0.3));\n",
              "      fill: #FFFFFF;\n",
              "    }\n",
              "  </style>\n",
              "\n",
              "    <script>\n",
              "      const buttonEl =\n",
              "        document.querySelector('#df-cf3a0ffa-4a82-403b-816c-2d9a958f355b button.colab-df-convert');\n",
              "      buttonEl.style.display =\n",
              "        google.colab.kernel.accessAllowed ? 'block' : 'none';\n",
              "\n",
              "      async function convertToInteractive(key) {\n",
              "        const element = document.querySelector('#df-cf3a0ffa-4a82-403b-816c-2d9a958f355b');\n",
              "        const dataTable =\n",
              "          await google.colab.kernel.invokeFunction('convertToInteractive',\n",
              "                                                    [key], {});\n",
              "        if (!dataTable) return;\n",
              "\n",
              "        const docLinkHtml = 'Like what you see? Visit the ' +\n",
              "          '<a target=\"_blank\" href=https://colab.research.google.com/notebooks/data_table.ipynb>data table notebook</a>'\n",
              "          + ' to learn more about interactive tables.';\n",
              "        element.innerHTML = '';\n",
              "        dataTable['output_type'] = 'display_data';\n",
              "        await google.colab.output.renderOutput(dataTable, element);\n",
              "        const docLink = document.createElement('div');\n",
              "        docLink.innerHTML = docLinkHtml;\n",
              "        element.appendChild(docLink);\n",
              "      }\n",
              "    </script>\n",
              "  </div>\n",
              "\n",
              "\n",
              "<div id=\"df-24b93b86-20a3-4f81-a71f-edb7268ea0e0\">\n",
              "  <button class=\"colab-df-quickchart\" onclick=\"quickchart('df-24b93b86-20a3-4f81-a71f-edb7268ea0e0')\"\n",
              "            title=\"Suggest charts.\"\n",
              "            style=\"display:none;\">\n",
              "\n",
              "<svg xmlns=\"http://www.w3.org/2000/svg\" height=\"24px\"viewBox=\"0 0 24 24\"\n",
              "     width=\"24px\">\n",
              "    <g>\n",
              "        <path d=\"M19 3H5c-1.1 0-2 .9-2 2v14c0 1.1.9 2 2 2h14c1.1 0 2-.9 2-2V5c0-1.1-.9-2-2-2zM9 17H7v-7h2v7zm4 0h-2V7h2v10zm4 0h-2v-4h2v4z\"/>\n",
              "    </g>\n",
              "</svg>\n",
              "  </button>\n",
              "\n",
              "<style>\n",
              "  .colab-df-quickchart {\n",
              "      --bg-color: #E8F0FE;\n",
              "      --fill-color: #1967D2;\n",
              "      --hover-bg-color: #E2EBFA;\n",
              "      --hover-fill-color: #174EA6;\n",
              "      --disabled-fill-color: #AAA;\n",
              "      --disabled-bg-color: #DDD;\n",
              "  }\n",
              "\n",
              "  [theme=dark] .colab-df-quickchart {\n",
              "      --bg-color: #3B4455;\n",
              "      --fill-color: #D2E3FC;\n",
              "      --hover-bg-color: #434B5C;\n",
              "      --hover-fill-color: #FFFFFF;\n",
              "      --disabled-bg-color: #3B4455;\n",
              "      --disabled-fill-color: #666;\n",
              "  }\n",
              "\n",
              "  .colab-df-quickchart {\n",
              "    background-color: var(--bg-color);\n",
              "    border: none;\n",
              "    border-radius: 50%;\n",
              "    cursor: pointer;\n",
              "    display: none;\n",
              "    fill: var(--fill-color);\n",
              "    height: 32px;\n",
              "    padding: 0;\n",
              "    width: 32px;\n",
              "  }\n",
              "\n",
              "  .colab-df-quickchart:hover {\n",
              "    background-color: var(--hover-bg-color);\n",
              "    box-shadow: 0 1px 2px rgba(60, 64, 67, 0.3), 0 1px 3px 1px rgba(60, 64, 67, 0.15);\n",
              "    fill: var(--button-hover-fill-color);\n",
              "  }\n",
              "\n",
              "  .colab-df-quickchart-complete:disabled,\n",
              "  .colab-df-quickchart-complete:disabled:hover {\n",
              "    background-color: var(--disabled-bg-color);\n",
              "    fill: var(--disabled-fill-color);\n",
              "    box-shadow: none;\n",
              "  }\n",
              "\n",
              "  .colab-df-spinner {\n",
              "    border: 2px solid var(--fill-color);\n",
              "    border-color: transparent;\n",
              "    border-bottom-color: var(--fill-color);\n",
              "    animation:\n",
              "      spin 1s steps(1) infinite;\n",
              "  }\n",
              "\n",
              "  @keyframes spin {\n",
              "    0% {\n",
              "      border-color: transparent;\n",
              "      border-bottom-color: var(--fill-color);\n",
              "      border-left-color: var(--fill-color);\n",
              "    }\n",
              "    20% {\n",
              "      border-color: transparent;\n",
              "      border-left-color: var(--fill-color);\n",
              "      border-top-color: var(--fill-color);\n",
              "    }\n",
              "    30% {\n",
              "      border-color: transparent;\n",
              "      border-left-color: var(--fill-color);\n",
              "      border-top-color: var(--fill-color);\n",
              "      border-right-color: var(--fill-color);\n",
              "    }\n",
              "    40% {\n",
              "      border-color: transparent;\n",
              "      border-right-color: var(--fill-color);\n",
              "      border-top-color: var(--fill-color);\n",
              "    }\n",
              "    60% {\n",
              "      border-color: transparent;\n",
              "      border-right-color: var(--fill-color);\n",
              "    }\n",
              "    80% {\n",
              "      border-color: transparent;\n",
              "      border-right-color: var(--fill-color);\n",
              "      border-bottom-color: var(--fill-color);\n",
              "    }\n",
              "    90% {\n",
              "      border-color: transparent;\n",
              "      border-bottom-color: var(--fill-color);\n",
              "    }\n",
              "  }\n",
              "</style>\n",
              "\n",
              "  <script>\n",
              "    async function quickchart(key) {\n",
              "      const quickchartButtonEl =\n",
              "        document.querySelector('#' + key + ' button');\n",
              "      quickchartButtonEl.disabled = true;  // To prevent multiple clicks.\n",
              "      quickchartButtonEl.classList.add('colab-df-spinner');\n",
              "      try {\n",
              "        const charts = await google.colab.kernel.invokeFunction(\n",
              "            'suggestCharts', [key], {});\n",
              "      } catch (error) {\n",
              "        console.error('Error during call to suggestCharts:', error);\n",
              "      }\n",
              "      quickchartButtonEl.classList.remove('colab-df-spinner');\n",
              "      quickchartButtonEl.classList.add('colab-df-quickchart-complete');\n",
              "    }\n",
              "    (() => {\n",
              "      let quickchartButtonEl =\n",
              "        document.querySelector('#df-24b93b86-20a3-4f81-a71f-edb7268ea0e0 button');\n",
              "      quickchartButtonEl.style.display =\n",
              "        google.colab.kernel.accessAllowed ? 'block' : 'none';\n",
              "    })();\n",
              "  </script>\n",
              "</div>\n",
              "    </div>\n",
              "  </div>\n"
            ]
          },
          "metadata": {},
          "execution_count": 18
        }
      ],
      "source": [
        "student_mental_health_df.describe()"
      ]
    },
    {
      "cell_type": "markdown",
      "id": "75eaafbf",
      "metadata": {
        "id": "75eaafbf"
      },
      "source": [
        "Porém se pode fazer medidas específicas com cálculos de estatística exploratória. Separando um atributo do dataset para os exemplos:"
      ]
    },
    {
      "cell_type": "code",
      "source": [
        "Age = student_mental_health_df[\"Age\"]"
      ],
      "metadata": {
        "id": "FPuGdGVyQRAc"
      },
      "id": "FPuGdGVyQRAc",
      "execution_count": null,
      "outputs": []
    },
    {
      "cell_type": "markdown",
      "source": [
        "Calculando a média:"
      ],
      "metadata": {
        "id": "trWJu9ksQdWq"
      },
      "id": "trWJu9ksQdWq"
    },
    {
      "cell_type": "code",
      "execution_count": null,
      "id": "2f1bc5d4",
      "metadata": {
        "colab": {
          "base_uri": "https://localhost:8080/"
        },
        "id": "2f1bc5d4",
        "outputId": "4192db44-0f1f-4046-9fd9-b06090e32903"
      },
      "outputs": [
        {
          "output_type": "stream",
          "name": "stdout",
          "text": [
            "20.53\n"
          ]
        }
      ],
      "source": [
        "media_Age = np.mean(Age)\n",
        "print(media_Age)"
      ]
    },
    {
      "cell_type": "markdown",
      "id": "28f6b106",
      "metadata": {
        "id": "28f6b106"
      },
      "source": [
        "mediana:"
      ]
    },
    {
      "cell_type": "code",
      "execution_count": null,
      "id": "3eabf2a1",
      "metadata": {
        "id": "3eabf2a1",
        "outputId": "e12d1242-3b22-4f42-87d4-00001c3d70a9",
        "colab": {
          "base_uri": "https://localhost:8080/"
        }
      },
      "outputs": [
        {
          "output_type": "stream",
          "name": "stdout",
          "text": [
            "19.0\n"
          ]
        }
      ],
      "source": [
        "mediana_Age = np.median(Age)\n",
        "print(mediana_Age)"
      ]
    },
    {
      "cell_type": "markdown",
      "id": "0fd3f6f8",
      "metadata": {
        "id": "0fd3f6f8"
      },
      "source": [
        "variância"
      ]
    },
    {
      "cell_type": "code",
      "execution_count": null,
      "id": "dc680fbc",
      "metadata": {
        "id": "dc680fbc",
        "outputId": "7b17f58e-2ebb-43c1-8923-5fff928f178f",
        "colab": {
          "base_uri": "https://localhost:8080/"
        }
      },
      "outputs": [
        {
          "output_type": "stream",
          "name": "stdout",
          "text": [
            "6.169099999999999\n"
          ]
        }
      ],
      "source": [
        "variancia_Age = np.var(Age)\n",
        "print(variancia_Age)"
      ]
    },
    {
      "cell_type": "markdown",
      "source": [
        "desvio padrão"
      ],
      "metadata": {
        "id": "nVnPNRhbJJpP"
      },
      "id": "nVnPNRhbJJpP"
    },
    {
      "cell_type": "code",
      "execution_count": null,
      "id": "ce2c9904",
      "metadata": {
        "id": "ce2c9904",
        "outputId": "38ce748e-174e-42b7-effa-9be0431dfdf4",
        "colab": {
          "base_uri": "https://localhost:8080/"
        }
      },
      "outputs": [
        {
          "output_type": "stream",
          "name": "stdout",
          "text": [
            "2.483767299889424\n"
          ]
        }
      ],
      "source": [
        "desvio_padrao_Age = np.std(Age)\n",
        "print(desvio_padrao_Age)"
      ]
    },
    {
      "cell_type": "markdown",
      "id": "f927828c",
      "metadata": {
        "id": "f927828c"
      },
      "source": [
        "Assim como é importante os cálculos de medias de resumo estatístico, também é importante se ter informações das faixas de valores. Por exemplo, valor minimo do atributo:"
      ]
    },
    {
      "cell_type": "code",
      "execution_count": null,
      "id": "d9403984",
      "metadata": {
        "id": "d9403984",
        "colab": {
          "base_uri": "https://localhost:8080/"
        },
        "outputId": "1665734d-a1d7-4c06-df0d-6d8549baedf5"
      },
      "outputs": [
        {
          "output_type": "stream",
          "name": "stdout",
          "text": [
            "18.0\n"
          ]
        }
      ],
      "source": [
        "Age_min = np.min(Age)\n",
        "print(Age_min)"
      ]
    },
    {
      "cell_type": "markdown",
      "id": "7550a295",
      "metadata": {
        "id": "7550a295"
      },
      "source": [
        "valor máximo"
      ]
    },
    {
      "cell_type": "code",
      "execution_count": null,
      "id": "151fec34",
      "metadata": {
        "id": "151fec34",
        "outputId": "e8835374-63b4-4dd5-f724-0ef6ab8e2158",
        "colab": {
          "base_uri": "https://localhost:8080/"
        }
      },
      "outputs": [
        {
          "output_type": "stream",
          "name": "stdout",
          "text": [
            "24.0\n"
          ]
        }
      ],
      "source": [
        "Age_max = np.max(Age)\n",
        "print(Age_max)"
      ]
    },
    {
      "cell_type": "markdown",
      "source": [
        "Agora se inicia a análise exploratória visual dos dados. A primeira é um gráfico de dispersão:"
      ],
      "metadata": {
        "id": "yxdkBE-LQ-jW"
      },
      "id": "yxdkBE-LQ-jW"
    },
    {
      "cell_type": "code",
      "execution_count": null,
      "id": "de894d41",
      "metadata": {
        "id": "de894d41",
        "colab": {
          "base_uri": "https://localhost:8080/",
          "height": 472
        },
        "outputId": "b8e899c4-8f7a-4514-b168-7814d1de139f"
      },
      "outputs": [
        {
          "output_type": "display_data",
          "data": {
            "text/plain": [
              "<Figure size 640x480 with 2 Axes>"
            ],
            "image/png": "[encoded data removed]"
          },
          "metadata": {}
        }
      ],
      "source": [
        "X = student_mental_health_df.iloc[:, 2]  #'Age'\n",
        "y = student_mental_health_df['CGPA_MAX']\n",
        "\n",
        "plt.scatter(X, X, c=y)\n",
        "plt.title(\"Dispersão de Age e CGPA_MAX\")\n",
        "plt.xlabel(\"Age\")\n",
        "plt.ylabel(\"CGPA_MAX\")\n",
        "plt.colorbar(label='CGPA_MAX')\n",
        "plt.show()\n"
      ]
    },
    {
      "cell_type": "code",
      "execution_count": null,
      "id": "53da65e8",
      "metadata": {
        "id": "53da65e8",
        "colab": {
          "base_uri": "https://localhost:8080/",
          "height": 472
        },
        "outputId": "12d3db43-92fd-4084-a464-35e224d9ce5b"
      },
      "outputs": [
        {
          "output_type": "display_data",
          "data": {
            "text/plain": [
              "<Figure size 640x480 with 1 Axes>"
            ],
            "image/png": "[encoded data removed]"
          },
          "metadata": {}
        }
      ],
      "source": [
        "plt.scatter(student_mental_health_df[\"Age\"], student_mental_health_df[\"CGPA_MAX\"], label=student_mental_health_df[\"Course\"])\n",
        "plt.title(\"Dispersão de dois atributos da Student Mental Health\")\n",
        "plt.xlabel(\"Age\")\n",
        "plt.ylabel(\"CGPA\")\n",
        "plt.show()\n"
      ]
    },
    {
      "cell_type": "code",
      "execution_count": null,
      "id": "e9848dac",
      "metadata": {
        "colab": {
          "base_uri": "https://localhost:8080/",
          "height": 490
        },
        "id": "e9848dac",
        "outputId": "4d00418d-81b4-4387-9095-f8fd96cefc97"
      },
      "outputs": [
        {
          "output_type": "execute_result",
          "data": {
            "text/plain": [
              "<matplotlib.legend.Legend at 0x7d921ebd23b0>"
            ]
          },
          "metadata": {},
          "execution_count": 28
        },
        {
          "output_type": "display_data",
          "data": {
            "text/plain": [
              "<Figure size 640x480 with 1 Axes>"
            ],
            "image/png": "[encoded data removed]"
          },
          "metadata": {}
        }
      ],
      "source": [
        "BCS = student_mental_health_df[student_mental_health_df[\"Course\"] == \"BCS\"]\n",
        "Engineering = student_mental_health_df[student_mental_health_df[\"Course\"] == \"Engineering\"]\n",
        "Mathemathics = student_mental_health_df[student_mental_health_df[\"Course\"] == \"Mathemathics\"]\n",
        "\n",
        "fig, ax = plt.subplots()\n",
        "points = ax.scatter(BCS[\"Age\"], BCS[\"CGPA_MAX\"], label=\"BCS\", facecolor=\"purple\")\n",
        "ax.scatter(Engineering[\"Age\"], Engineering[\"CGPA_MAX\"], label=\"Engineering\", facecolor=\"green\")\n",
        "ax.scatter(Mathemathics[\"Age\"], Mathemathics[\"CGPA_MAX\"], label=\"Mathemathics\", facecolor=\"yellow\")\n",
        "\n",
        "ax.set_title(\"Course vs Age vs CGPA\")\n",
        "ax.set_xlabel(\"Age\")\n",
        "ax.set_ylabel(\"CGPA\")\n",
        "ax.legend()\n"
      ]
    },
    {
      "cell_type": "markdown",
      "source": [
        "Em outras análises se deseja saber a distribuição de um atributo específico:"
      ],
      "metadata": {
        "id": "M7NEmhpkJbwi"
      },
      "id": "M7NEmhpkJbwi"
    },
    {
      "cell_type": "code",
      "execution_count": null,
      "id": "2e4aba39",
      "metadata": {
        "colab": {
          "base_uri": "https://localhost:8080/",
          "height": 576
        },
        "id": "2e4aba39",
        "outputId": "c926af9c-84e0-43be-91d1-72f400171cf3"
      },
      "outputs": [
        {
          "output_type": "execute_result",
          "data": {
            "text/plain": [
              "{'whiskers': [<matplotlib.lines.Line2D at 0x7d921ea33700>,\n",
              "  <matplotlib.lines.Line2D at 0x7d921ea339a0>],\n",
              " 'caps': [<matplotlib.lines.Line2D at 0x7d921ea33c40>,\n",
              "  <matplotlib.lines.Line2D at 0x7d921eb63df0>],\n",
              " 'boxes': [<matplotlib.lines.Line2D at 0x7d921ea33460>],\n",
              " 'medians': [<matplotlib.lines.Line2D at 0x7d921ea32350>],\n",
              " 'fliers': [<matplotlib.lines.Line2D at 0x7d921ea800d0>],\n",
              " 'means': []}"
            ]
          },
          "metadata": {},
          "execution_count": 29
        },
        {
          "output_type": "display_data",
          "data": {
            "text/plain": [
              "<Figure size 640x480 with 1 Axes>"
            ],
            "image/png": "[encoded data removed]"
          },
          "metadata": {}
        }
      ],
      "source": [
        "fig, ax = plt.subplots()\n",
        "ax.boxplot(student_mental_health_df[\"CGPA_MAX\"])\n"
      ]
    },
    {
      "cell_type": "code",
      "execution_count": null,
      "id": "1ac32a06",
      "metadata": {
        "colab": {
          "base_uri": "https://localhost:8080/"
        },
        "id": "1ac32a06",
        "outputId": "69e6b990-972e-46d3-ebd4-57a70f5607ab"
      },
      "outputs": [
        {
          "output_type": "stream",
          "name": "stdout",
          "text": [
            "[ 5  4 91]\n"
          ]
        }
      ],
      "source": [
        "count = np.histogram(student_mental_health_df[\"CGPA_MAX\"], bins=3)\n",
        "print(count[0])"
      ]
    },
    {
      "cell_type": "code",
      "execution_count": null,
      "id": "af13040f",
      "metadata": {
        "id": "af13040f",
        "colab": {
          "base_uri": "https://localhost:8080/",
          "height": 479
        },
        "outputId": "9eab9016-a034-4b07-e03c-da7260eb7fe6"
      },
      "outputs": [
        {
          "output_type": "execute_result",
          "data": {
            "text/plain": [
              "(-1.0999999228848731,\n",
              " 1.099999996327851,\n",
              " -1.0999997627733988,\n",
              " 1.0999999288961293)"
            ]
          },
          "metadata": {},
          "execution_count": 31
        },
        {
          "output_type": "display_data",
          "data": {
            "text/plain": [
              "<Figure size 640x480 with 1 Axes>"
            ],
            "image/png": "[encoded data removed]"
          },
          "metadata": {}
        }
      ],
      "source": [
        "labels = ['BSC','Engineering','Mathemathics']\n",
        "\n",
        "fig, ax = plt.subplots()\n",
        "ax.pie(count[0], labels = labels)\n",
        "ax.axis('equal')"
      ]
    },
    {
      "cell_type": "markdown",
      "source": [
        "plt.hist(Age)\n",
        "plt.show()"
      ],
      "metadata": {
        "id": "brwJZWzDvWx2"
      },
      "id": "brwJZWzDvWx2"
    },
    {
      "cell_type": "markdown",
      "source": [
        "**Validação Cruzada e Análise de Desempenho**"
      ],
      "metadata": {
        "id": "RAq9hoRGktyu"
      },
      "id": "RAq9hoRGktyu"
    },
    {
      "cell_type": "code",
      "source": [
        "X = student_mental_health_df.iloc[:,[1, 3, 4]]\n",
        "Y = student_mental_health_df['CGPA_MAX']"
      ],
      "metadata": {
        "id": "8uwprfTMlKZU"
      },
      "id": "8uwprfTMlKZU",
      "execution_count": null,
      "outputs": []
    },
    {
      "cell_type": "code",
      "source": [
        "svm_classifier = SVC(kernel='linear', C=1)"
      ],
      "metadata": {
        "id": "akBP9G4qwEtZ"
      },
      "id": "akBP9G4qwEtZ",
      "execution_count": null,
      "outputs": []
    },
    {
      "cell_type": "code",
      "source": [
        "kf = KFold(n_splits=5, shuffle=True, random_state=42)"
      ],
      "metadata": {
        "id": "qr4C4rwQwFHO"
      },
      "id": "qr4C4rwQwFHO",
      "execution_count": null,
      "outputs": []
    },
    {
      "cell_type": "code",
      "source": [
        "accuracy_scores = []"
      ],
      "metadata": {
        "id": "IeVEcSDmwIE_"
      },
      "id": "IeVEcSDmwIE_",
      "execution_count": null,
      "outputs": []
    },
    {
      "cell_type": "code",
      "source": [
        "for train_index, test_index in kf.split(X):\n",
        "    X_train, X_test = X[train_index], X[test_index]\n",
        "    y_train, y_test = y[train_index], y[test_index]\n",
        "\n",
        "    # Treinar o modelo SVM\n",
        "    svm_classifier.fit(X_train, y_train)\n",
        "\n",
        "    # Fazer previsões no conjunto de teste\n",
        "    y_pred = svm_classifier.predict(X_test)\n",
        "\n",
        "    # Calcular a acurácia e armazená-la na lista de pontuações\n",
        "    accuracy = accuracy_score(y_test, y_pred)\n",
        "    accuracy_scores.append(accuracy)\n"
      ],
      "metadata": {
        "colab": {
          "base_uri": "https://localhost:8080/",
          "height": 498
        },
        "id": "ZOChuZZIwJSM",
        "outputId": "9b58303d-9afa-4c23-ee19-ce05e922e0ce"
      },
      "id": "ZOChuZZIwJSM",
      "execution_count": null,
      "outputs": [
        {
          "output_type": "error",
          "ename": "KeyError",
          "evalue": "ignored",
          "traceback": [
            "\u001b[0;31m---------------------------------------------------------------------------\u001b[0m",
            "\u001b[0;31mKeyError\u001b[0m                                  Traceback (most recent call last)",
            "\u001b[0;32m<ipython-input-57-873b0fff15f1>\u001b[0m in \u001b[0;36m<cell line: 1>\u001b[0;34m()\u001b[0m\n\u001b[1;32m      1\u001b[0m \u001b[0;32mfor\u001b[0m \u001b[0mtrain_index\u001b[0m\u001b[0;34m,\u001b[0m \u001b[0mtest_index\u001b[0m \u001b[0;32min\u001b[0m \u001b[0mkf\u001b[0m\u001b[0;34m.\u001b[0m\u001b[0msplit\u001b[0m\u001b[0;34m(\u001b[0m\u001b[0mX\u001b[0m\u001b[0;34m)\u001b[0m\u001b[0;34m:\u001b[0m\u001b[0;34m\u001b[0m\u001b[0;34m\u001b[0m\u001b[0m\n\u001b[0;32m----> 2\u001b[0;31m     \u001b[0mX_train\u001b[0m\u001b[0;34m,\u001b[0m \u001b[0mX_test\u001b[0m \u001b[0;34m=\u001b[0m \u001b[0mX\u001b[0m\u001b[0;34m[\u001b[0m\u001b[0mtrain_index\u001b[0m\u001b[0;34m]\u001b[0m\u001b[0;34m,\u001b[0m \u001b[0mX\u001b[0m\u001b[0;34m[\u001b[0m\u001b[0mtest_index\u001b[0m\u001b[0;34m]\u001b[0m\u001b[0;34m\u001b[0m\u001b[0;34m\u001b[0m\u001b[0m\n\u001b[0m\u001b[1;32m      3\u001b[0m     \u001b[0my_train\u001b[0m\u001b[0;34m,\u001b[0m \u001b[0my_test\u001b[0m \u001b[0;34m=\u001b[0m \u001b[0my\u001b[0m\u001b[0;34m[\u001b[0m\u001b[0mtrain_index\u001b[0m\u001b[0;34m]\u001b[0m\u001b[0;34m,\u001b[0m \u001b[0my\u001b[0m\u001b[0;34m[\u001b[0m\u001b[0mtest_index\u001b[0m\u001b[0;34m]\u001b[0m\u001b[0;34m\u001b[0m\u001b[0;34m\u001b[0m\u001b[0m\n\u001b[1;32m      4\u001b[0m \u001b[0;34m\u001b[0m\u001b[0m\n\u001b[1;32m      5\u001b[0m     \u001b[0;31m# Treinar o modelo SVM\u001b[0m\u001b[0;34m\u001b[0m\u001b[0;34m\u001b[0m\u001b[0m\n",
            "\u001b[0;32m/usr/local/lib/python3.10/dist-packages/pandas/core/frame.py\u001b[0m in \u001b[0;36m__getitem__\u001b[0;34m(self, key)\u001b[0m\n\u001b[1;32m   3811\u001b[0m             \u001b[0;32mif\u001b[0m \u001b[0mis_iterator\u001b[0m\u001b[0;34m(\u001b[0m\u001b[0mkey\u001b[0m\u001b[0;34m)\u001b[0m\u001b[0;34m:\u001b[0m\u001b[0;34m\u001b[0m\u001b[0;34m\u001b[0m\u001b[0m\n\u001b[1;32m   3812\u001b[0m                 \u001b[0mkey\u001b[0m \u001b[0;34m=\u001b[0m \u001b[0mlist\u001b[0m\u001b[0;34m(\u001b[0m\u001b[0mkey\u001b[0m\u001b[0;34m)\u001b[0m\u001b[0;34m\u001b[0m\u001b[0;34m\u001b[0m\u001b[0m\n\u001b[0;32m-> 3813\u001b[0;31m             \u001b[0mindexer\u001b[0m \u001b[0;34m=\u001b[0m \u001b[0mself\u001b[0m\u001b[0;34m.\u001b[0m\u001b[0mcolumns\u001b[0m\u001b[0;34m.\u001b[0m\u001b[0m_get_indexer_strict\u001b[0m\u001b[0;34m(\u001b[0m\u001b[0mkey\u001b[0m\u001b[0;34m,\u001b[0m \u001b[0;34m\"columns\"\u001b[0m\u001b[0;34m)\u001b[0m\u001b[0;34m[\u001b[0m\u001b[0;36m1\u001b[0m\u001b[0;34m]\u001b[0m\u001b[0;34m\u001b[0m\u001b[0;34m\u001b[0m\u001b[0m\n\u001b[0m\u001b[1;32m   3814\u001b[0m \u001b[0;34m\u001b[0m\u001b[0m\n\u001b[1;32m   3815\u001b[0m         \u001b[0;31m# take() does not accept boolean indexers\u001b[0m\u001b[0;34m\u001b[0m\u001b[0;34m\u001b[0m\u001b[0m\n",
            "\u001b[0;32m/usr/local/lib/python3.10/dist-packages/pandas/core/indexes/base.py\u001b[0m in \u001b[0;36m_get_indexer_strict\u001b[0;34m(self, key, axis_name)\u001b[0m\n\u001b[1;32m   6068\u001b[0m             \u001b[0mkeyarr\u001b[0m\u001b[0;34m,\u001b[0m \u001b[0mindexer\u001b[0m\u001b[0;34m,\u001b[0m \u001b[0mnew_indexer\u001b[0m \u001b[0;34m=\u001b[0m \u001b[0mself\u001b[0m\u001b[0;34m.\u001b[0m\u001b[0m_reindex_non_unique\u001b[0m\u001b[0;34m(\u001b[0m\u001b[0mkeyarr\u001b[0m\u001b[0;34m)\u001b[0m\u001b[0;34m\u001b[0m\u001b[0;34m\u001b[0m\u001b[0m\n\u001b[1;32m   6069\u001b[0m \u001b[0;34m\u001b[0m\u001b[0m\n\u001b[0;32m-> 6070\u001b[0;31m         \u001b[0mself\u001b[0m\u001b[0;34m.\u001b[0m\u001b[0m_raise_if_missing\u001b[0m\u001b[0;34m(\u001b[0m\u001b[0mkeyarr\u001b[0m\u001b[0;34m,\u001b[0m \u001b[0mindexer\u001b[0m\u001b[0;34m,\u001b[0m \u001b[0maxis_name\u001b[0m\u001b[0;34m)\u001b[0m\u001b[0;34m\u001b[0m\u001b[0;34m\u001b[0m\u001b[0m\n\u001b[0m\u001b[1;32m   6071\u001b[0m \u001b[0;34m\u001b[0m\u001b[0m\n\u001b[1;32m   6072\u001b[0m         \u001b[0mkeyarr\u001b[0m \u001b[0;34m=\u001b[0m \u001b[0mself\u001b[0m\u001b[0;34m.\u001b[0m\u001b[0mtake\u001b[0m\u001b[0;34m(\u001b[0m\u001b[0mindexer\u001b[0m\u001b[0;34m)\u001b[0m\u001b[0;34m\u001b[0m\u001b[0;34m\u001b[0m\u001b[0m\n",
            "\u001b[0;32m/usr/local/lib/python3.10/dist-packages/pandas/core/indexes/base.py\u001b[0m in \u001b[0;36m_raise_if_missing\u001b[0;34m(self, key, indexer, axis_name)\u001b[0m\n\u001b[1;32m   6128\u001b[0m                 \u001b[0;32mif\u001b[0m \u001b[0muse_interval_msg\u001b[0m\u001b[0;34m:\u001b[0m\u001b[0;34m\u001b[0m\u001b[0;34m\u001b[0m\u001b[0m\n\u001b[1;32m   6129\u001b[0m                     \u001b[0mkey\u001b[0m \u001b[0;34m=\u001b[0m \u001b[0mlist\u001b[0m\u001b[0;34m(\u001b[0m\u001b[0mkey\u001b[0m\u001b[0;34m)\u001b[0m\u001b[0;34m\u001b[0m\u001b[0;34m\u001b[0m\u001b[0m\n\u001b[0;32m-> 6130\u001b[0;31m                 \u001b[0;32mraise\u001b[0m \u001b[0mKeyError\u001b[0m\u001b[0;34m(\u001b[0m\u001b[0;34mf\"None of [{key}] are in the [{axis_name}]\"\u001b[0m\u001b[0;34m)\u001b[0m\u001b[0;34m\u001b[0m\u001b[0;34m\u001b[0m\u001b[0m\n\u001b[0m\u001b[1;32m   6131\u001b[0m \u001b[0;34m\u001b[0m\u001b[0m\n\u001b[1;32m   6132\u001b[0m             \u001b[0mnot_found\u001b[0m \u001b[0;34m=\u001b[0m \u001b[0mlist\u001b[0m\u001b[0;34m(\u001b[0m\u001b[0mensure_index\u001b[0m\u001b[0;34m(\u001b[0m\u001b[0mkey\u001b[0m\u001b[0;34m)\u001b[0m\u001b[0;34m[\u001b[0m\u001b[0mmissing_mask\u001b[0m\u001b[0;34m.\u001b[0m\u001b[0mnonzero\u001b[0m\u001b[0;34m(\u001b[0m\u001b[0;34m)\u001b[0m\u001b[0;34m[\u001b[0m\u001b[0;36m0\u001b[0m\u001b[0;34m]\u001b[0m\u001b[0;34m]\u001b[0m\u001b[0;34m.\u001b[0m\u001b[0munique\u001b[0m\u001b[0;34m(\u001b[0m\u001b[0;34m)\u001b[0m\u001b[0;34m)\u001b[0m\u001b[0;34m\u001b[0m\u001b[0;34m\u001b[0m\u001b[0m\n",
            "\u001b[0;31mKeyError\u001b[0m: \"None of [Int64Index([ 1,  2,  3,  5,  6,  7,  8,  9, 11, 13, 14, 15, 16, 17, 19, 20, 21,\\n            23, 24, 25, 26, 27, 28, 29, 32, 34, 35, 36, 37, 38, 40, 41, 42, 43,\\n            46, 47, 48, 49, 50, 51, 52, 54, 55, 56, 57, 58, 59, 60, 61, 62, 63,\\n            64, 65, 66, 67, 68, 69, 71, 72, 74, 75, 78, 79, 81, 82, 84, 85, 86,\\n            87, 88, 89, 91, 92, 93, 94, 95, 96, 97, 98, 99],\\n           dtype='int64')] are in the [columns]\""
          ]
        }
      ]
    },
    {
      "cell_type": "code",
      "source": [
        "for fold, accuracy in enumerate(accuracy_scores, start=1):\n",
        "    print(f'Fold {fold}: Accuracy = {accuracy:.2f}')"
      ],
      "metadata": {
        "id": "LQT9e7SjwKpE"
      },
      "id": "LQT9e7SjwKpE",
      "execution_count": null,
      "outputs": []
    },
    {
      "cell_type": "code",
      "source": [
        "mean_accuracy = np.mean(accuracy_scores)\n",
        "print(f'Mean Accuracy: {mean_accuracy:.2f}')"
      ],
      "metadata": {
        "id": "heKQV-wlwLiE"
      },
      "id": "heKQV-wlwLiE",
      "execution_count": null,
      "outputs": []
    },
    {
      "cell_type": "code",
      "source": [
        "X_train, X_test, y_train, y_test = train_test_split(X, y, test_size=0.3, random_state=42)\n"
      ],
      "metadata": {
        "id": "24mqLnUqwaNi"
      },
      "id": "24mqLnUqwaNi",
      "execution_count": null,
      "outputs": []
    },
    {
      "cell_type": "code",
      "source": [
        "svm_classifier = SVC(kernel='linear', C=1)\n"
      ],
      "metadata": {
        "id": "p1ceHfuGweUI"
      },
      "id": "p1ceHfuGweUI",
      "execution_count": null,
      "outputs": []
    },
    {
      "cell_type": "code",
      "source": [
        "cross_val_scores = cross_val_score(svm_classifier, X_train, y_train, cv=5)\n"
      ],
      "metadata": {
        "colab": {
          "base_uri": "https://localhost:8080/",
          "height": 1000
        },
        "id": "qvUt3s8Gwfgd",
        "outputId": "5b788ce1-ebdd-42e6-8e41-fa634709ba47"
      },
      "id": "qvUt3s8Gwfgd",
      "execution_count": null,
      "outputs": [
        {
          "output_type": "error",
          "ename": "ValueError",
          "evalue": "ignored",
          "traceback": [
            "\u001b[0;31m---------------------------------------------------------------------------\u001b[0m",
            "\u001b[0;31mValueError\u001b[0m                                Traceback (most recent call last)",
            "\u001b[0;32m<ipython-input-61-2410df511c44>\u001b[0m in \u001b[0;36m<cell line: 1>\u001b[0;34m()\u001b[0m\n\u001b[0;32m----> 1\u001b[0;31m \u001b[0mcross_val_scores\u001b[0m \u001b[0;34m=\u001b[0m \u001b[0mcross_val_score\u001b[0m\u001b[0;34m(\u001b[0m\u001b[0msvm_classifier\u001b[0m\u001b[0;34m,\u001b[0m \u001b[0mX_train\u001b[0m\u001b[0;34m,\u001b[0m \u001b[0my_train\u001b[0m\u001b[0;34m,\u001b[0m \u001b[0mcv\u001b[0m\u001b[0;34m=\u001b[0m\u001b[0;36m5\u001b[0m\u001b[0;34m)\u001b[0m\u001b[0;34m\u001b[0m\u001b[0;34m\u001b[0m\u001b[0m\n\u001b[0m",
            "\u001b[0;32m/usr/local/lib/python3.10/dist-packages/sklearn/model_selection/_validation.py\u001b[0m in \u001b[0;36mcross_val_score\u001b[0;34m(estimator, X, y, groups, scoring, cv, n_jobs, verbose, fit_params, pre_dispatch, error_score)\u001b[0m\n\u001b[1;32m    513\u001b[0m     \u001b[0mscorer\u001b[0m \u001b[0;34m=\u001b[0m \u001b[0mcheck_scoring\u001b[0m\u001b[0;34m(\u001b[0m\u001b[0mestimator\u001b[0m\u001b[0;34m,\u001b[0m \u001b[0mscoring\u001b[0m\u001b[0;34m=\u001b[0m\u001b[0mscoring\u001b[0m\u001b[0;34m)\u001b[0m\u001b[0;34m\u001b[0m\u001b[0;34m\u001b[0m\u001b[0m\n\u001b[1;32m    514\u001b[0m \u001b[0;34m\u001b[0m\u001b[0m\n\u001b[0;32m--> 515\u001b[0;31m     cv_results = cross_validate(\n\u001b[0m\u001b[1;32m    516\u001b[0m         \u001b[0mestimator\u001b[0m\u001b[0;34m=\u001b[0m\u001b[0mestimator\u001b[0m\u001b[0;34m,\u001b[0m\u001b[0;34m\u001b[0m\u001b[0;34m\u001b[0m\u001b[0m\n\u001b[1;32m    517\u001b[0m         \u001b[0mX\u001b[0m\u001b[0;34m=\u001b[0m\u001b[0mX\u001b[0m\u001b[0;34m,\u001b[0m\u001b[0;34m\u001b[0m\u001b[0;34m\u001b[0m\u001b[0m\n",
            "\u001b[0;32m/usr/local/lib/python3.10/dist-packages/sklearn/model_selection/_validation.py\u001b[0m in \u001b[0;36mcross_validate\u001b[0;34m(estimator, X, y, groups, scoring, cv, n_jobs, verbose, fit_params, pre_dispatch, return_train_score, return_estimator, error_score)\u001b[0m\n\u001b[1;32m    283\u001b[0m     )\n\u001b[1;32m    284\u001b[0m \u001b[0;34m\u001b[0m\u001b[0m\n\u001b[0;32m--> 285\u001b[0;31m     \u001b[0m_warn_or_raise_about_fit_failures\u001b[0m\u001b[0;34m(\u001b[0m\u001b[0mresults\u001b[0m\u001b[0;34m,\u001b[0m \u001b[0merror_score\u001b[0m\u001b[0;34m)\u001b[0m\u001b[0;34m\u001b[0m\u001b[0;34m\u001b[0m\u001b[0m\n\u001b[0m\u001b[1;32m    286\u001b[0m \u001b[0;34m\u001b[0m\u001b[0m\n\u001b[1;32m    287\u001b[0m     \u001b[0;31m# For callabe scoring, the return type is only know after calling. If the\u001b[0m\u001b[0;34m\u001b[0m\u001b[0;34m\u001b[0m\u001b[0m\n",
            "\u001b[0;32m/usr/local/lib/python3.10/dist-packages/sklearn/model_selection/_validation.py\u001b[0m in \u001b[0;36m_warn_or_raise_about_fit_failures\u001b[0;34m(results, error_score)\u001b[0m\n\u001b[1;32m    365\u001b[0m                 \u001b[0;34mf\"Below are more details about the failures:\\n{fit_errors_summary}\"\u001b[0m\u001b[0;34m\u001b[0m\u001b[0;34m\u001b[0m\u001b[0m\n\u001b[1;32m    366\u001b[0m             )\n\u001b[0;32m--> 367\u001b[0;31m             \u001b[0;32mraise\u001b[0m \u001b[0mValueError\u001b[0m\u001b[0;34m(\u001b[0m\u001b[0mall_fits_failed_message\u001b[0m\u001b[0;34m)\u001b[0m\u001b[0;34m\u001b[0m\u001b[0;34m\u001b[0m\u001b[0m\n\u001b[0m\u001b[1;32m    368\u001b[0m \u001b[0;34m\u001b[0m\u001b[0m\n\u001b[1;32m    369\u001b[0m         \u001b[0;32melse\u001b[0m\u001b[0;34m:\u001b[0m\u001b[0;34m\u001b[0m\u001b[0;34m\u001b[0m\u001b[0m\n",
            "\u001b[0;31mValueError\u001b[0m: \nAll the 5 fits failed.\nIt is very likely that your model is misconfigured.\nYou can try to debug the error by setting error_score='raise'.\n\nBelow are more details about the failures:\n--------------------------------------------------------------------------------\n1 fits failed with the following error:\nTraceback (most recent call last):\n  File \"/usr/local/lib/python3.10/dist-packages/sklearn/model_selection/_validation.py\", line 686, in _fit_and_score\n    estimator.fit(X_train, y_train, **fit_params)\n  File \"/usr/local/lib/python3.10/dist-packages/sklearn/svm/_base.py\", line 192, in fit\n    X, y = self._validate_data(\n  File \"/usr/local/lib/python3.10/dist-packages/sklearn/base.py\", line 584, in _validate_data\n    X, y = check_X_y(X, y, **check_params)\n  File \"/usr/local/lib/python3.10/dist-packages/sklearn/utils/validation.py\", line 1106, in check_X_y\n    X = check_array(\n  File \"/usr/local/lib/python3.10/dist-packages/sklearn/utils/validation.py\", line 879, in check_array\n    array = _asarray_with_order(array, order=order, dtype=dtype, xp=xp)\n  File \"/usr/local/lib/python3.10/dist-packages/sklearn/utils/_array_api.py\", line 185, in _asarray_with_order\n    array = numpy.asarray(array, order=order, dtype=dtype)\n  File \"/usr/local/lib/python3.10/dist-packages/pandas/core/generic.py\", line 2070, in __array__\n    return np.asarray(self._values, dtype=dtype)\nValueError: could not convert string to float: 'Male'\n\n--------------------------------------------------------------------------------\n4 fits failed with the following error:\nTraceback (most recent call last):\n  File \"/usr/local/lib/python3.10/dist-packages/sklearn/model_selection/_validation.py\", line 686, in _fit_and_score\n    estimator.fit(X_train, y_train, **fit_params)\n  File \"/usr/local/lib/python3.10/dist-packages/sklearn/svm/_base.py\", line 192, in fit\n    X, y = self._validate_data(\n  File \"/usr/local/lib/python3.10/dist-packages/sklearn/base.py\", line 584, in _validate_data\n    X, y = check_X_y(X, y, **check_params)\n  File \"/usr/local/lib/python3.10/dist-packages/sklearn/utils/validation.py\", line 1106, in check_X_y\n    X = check_array(\n  File \"/usr/local/lib/python3.10/dist-packages/sklearn/utils/validation.py\", line 879, in check_array\n    array = _asarray_with_order(array, order=order, dtype=dtype, xp=xp)\n  File \"/usr/local/lib/python3.10/dist-packages/sklearn/utils/_array_api.py\", line 185, in _asarray_with_order\n    array = numpy.asarray(array, order=order, dtype=dtype)\n  File \"/usr/local/lib/python3.10/dist-packages/pandas/core/generic.py\", line 2070, in __array__\n    return np.asarray(self._values, dtype=dtype)\nValueError: could not convert string to float: 'Female'\n"
          ]
        }
      ]
    },
    {
      "cell_type": "code",
      "source": [
        "svm_classifier.fit(X_train, y_train)"
      ],
      "metadata": {
        "id": "s2s0COT_wg70"
      },
      "id": "s2s0COT_wg70",
      "execution_count": null,
      "outputs": []
    },
    {
      "cell_type": "code",
      "source": [
        "y_pred = svm_classifier.predict(X_test)\n"
      ],
      "metadata": {
        "id": "ZHJc1mJ9wiPB"
      },
      "id": "ZHJc1mJ9wiPB",
      "execution_count": null,
      "outputs": []
    },
    {
      "cell_type": "code",
      "source": [
        "confusion = confusion_matrix(y_test, y_pred)\n",
        "print(\"Matriz de Confusão:\")\n",
        "print(confusion)\n"
      ],
      "metadata": {
        "id": "BmFdFJ-PwjLR"
      },
      "id": "BmFdFJ-PwjLR",
      "execution_count": null,
      "outputs": []
    },
    {
      "cell_type": "markdown",
      "source": [
        "#**Exercícios**:"
      ],
      "metadata": {
        "id": "2ID_jDv4UMYW"
      },
      "id": "2ID_jDv4UMYW"
    },
    {
      "cell_type": "markdown",
      "id": "62c886d0",
      "metadata": {
        "id": "62c886d0"
      },
      "source": [
        "Referências\n",
        "\n",
        "https://www.w3schools.com/python/python_examples.asp\n",
        "\n",
        "https://pandas.pydata.org/docs/reference/api/pandas.DataFrame.html\n",
        "\n",
        "https://scikit-learn.org/stable/modules/generated/sklearn.datasets.load_iris.html#sklearn.datasets.load_iris\n",
        "\n",
        "https://stackabuse.com/matplotlib-pie-chart-tutorial-and-examples/\n",
        "\n",
        "https://numpy.org/doc/stable/reference/generated/numpy.histogram.html\n",
        "\n",
        "https://www.tutorialspoint.com/numpy/numpy_histogram_using_matplotlib.htm\n",
        "\n",
        "https://pandas.pydata.org/docs/reference/api/pandas.DataFrame.iloc.html\n",
        "\n",
        "https://pandas.pydata.org/docs/getting_started/intro_tutorials/03_subset_data.html\n",
        "\n",
        "https://www.w3schools.com/python/ref_string_count.asp\n"
      ]
    },
    {
      "cell_type": "markdown",
      "id": "0c6df7d8",
      "metadata": {
        "id": "0c6df7d8"
      },
      "source": [
        "Instalação do Spyder\n",
        "\n",
        "https://docs.spyder-ide.org/current/installation.html\n",
        "\n",
        "https://github.com/spyder-ide/spyder-notebook\n",
        "\n",
        "https://docs.spyder-ide.org/5/plugins/notebook.html\n",
        "\n",
        "https://python.org.br/instalacao-mac/#:~:text=Instala%C3%A7%C3%A3o,de%20pacotes%20pip%20e%20homebrew.\n",
        "\n",
        "https://python-guide-pt-br.readthedocs.io/pt_BR/latest/starting/install3/osx.html\n",
        "\n",
        "https://docs.spyder-ide.org/current/installation.html\n",
        "\n",
        "https://docs.spyder-ide.org/current/installation.html"
      ]
    }
  ],
  "metadata": {
    "kernelspec": {
      "display_name": "Python 3 (Spyder)",
      "language": "python3",
      "name": "python3"
    },
    "language_info": {
      "codemirror_mode": {
        "name": "ipython",
        "version": 3
      },
      "file_extension": ".py",
      "mimetype": "text/x-python",
      "name": "python",
      "nbconvert_exporter": "python",
      "pygments_lexer": "ipython3",
      "version": "3.9.13"
    },
    "colab": {
      "provenance": []
    }
  },
  "nbformat": 4,
  "nbformat_minor": 5
}