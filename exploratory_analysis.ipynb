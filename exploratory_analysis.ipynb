{
  "cells": [
    {
      "cell_type": "markdown",
      "metadata": {
        "id": "view-in-github",
        "colab_type": "text"
      },
      "source": [
        "<a href=\"https://colab.research.google.com/github/thayunoo/Student-Mental-Health/blob/main/exploratory_analysis.ipynb\" target=\"_parent\"><img src=\"https://colab.research.google.com/assets/colab-badge.svg\" alt=\"Open In Colab\"/></a>"
      ]
    },
    {
      "cell_type": "markdown",
      "source": [
        "#**Análise Exploratória de Dados**\n",
        "##*Prof. Dr. Leandro Augusto da Silva*\n",
        "\n",
        "\n",
        "\n",
        "###Case: Iris dataset\n",
        "\n",
        "Trata-se de um conjunto de dados clássico usado para análise de dados de maneira geral e, principalmente, para validação de algoritmos de aprendizagem de máquina.\n",
        "\n",
        "O objetivo desta atividade é fazer dois tipos de explorações sob os dados:\n",
        "\n",
        "1) enriquecer o conjunto de dados (dataset) com o levantamento de metadados como dimensão, tipos de atributos e medidas de resumo;\n",
        "\n",
        "2) explorar analiticamente o dataset com o uso de estatística descritiva (medida de tendência central, variabilidade) e métodos gráficos para se ter ideias de tipos de análises que podem ser realizadas. Como aqui se trata da primeira exploração de dados, a seguir serão definidas algumas propostas de análises com a finalidade de tornar os estudos mais bem direcionados. Nesse sentido, um case de estudo será definido e apresentado a seguir."
      ],
      "metadata": {
        "id": "63JM62AWKGFW"
      },
      "id": "63JM62AWKGFW"
    },
    {
      "cell_type": "markdown",
      "source": [
        "As bibliotecas utilizadas na solução deste case são:"
      ],
      "metadata": {
        "id": "SVko29okLzQX"
      },
      "id": "SVko29okLzQX"
    },
    {
      "cell_type": "code",
      "execution_count": null,
      "id": "cd229c95",
      "metadata": {
        "id": "cd229c95"
      },
      "outputs": [],
      "source": [
        "from sklearn import datasets\n",
        "import pandas as pd\n",
        "from matplotlib import pyplot as plt\n",
        "import numpy as np"
      ]
    },
    {
      "cell_type": "markdown",
      "source": [
        "Neste case será usado um dataset disponível na biblioteca do sklearn:"
      ],
      "metadata": {
        "id": "Mc1-rR_rLwcF"
      },
      "id": "Mc1-rR_rLwcF"
    },
    {
      "cell_type": "code",
      "execution_count": null,
      "id": "5565734b",
      "metadata": {
        "id": "5565734b"
      },
      "outputs": [],
      "source": [
        "iris = datasets.load_iris()"
      ]
    },
    {
      "cell_type": "markdown",
      "source": [
        "Os atributos deste dataset são:"
      ],
      "metadata": {
        "id": "l9v_HpX9MS_d"
      },
      "id": "l9v_HpX9MS_d"
    },
    {
      "cell_type": "code",
      "source": [
        "X = pd.DataFrame(iris.data[:, :4])\n",
        "y = pd.DataFrame(iris.target)\n",
        "iris_df = pd.concat([X,y], axis=1)\n",
        "iris_df\n",
        "iris_df.columns = ['Sepal_Length','Sepal_Width','Petal_Length','Petal_Width','Species']\n",
        "print(iris_df)\n"
      ],
      "metadata": {
        "colab": {
          "base_uri": "https://localhost:8080/"
        },
        "id": "ncBw32i_Zsk0",
        "outputId": "c63a8585-d746-4a4e-d507-6fa4dc07989f"
      },
      "id": "ncBw32i_Zsk0",
      "execution_count": null,
      "outputs": [
        {
          "output_type": "stream",
          "name": "stdout",
          "text": [
            "     Sepal_Length  Sepal_Width  Petal_Length  Petal_Width  Species\n",
            "0             5.1          3.5           1.4          0.2        0\n",
            "1             4.9          3.0           1.4          0.2        0\n",
            "2             4.7          3.2           1.3          0.2        0\n",
            "3             4.6          3.1           1.5          0.2        0\n",
            "4             5.0          3.6           1.4          0.2        0\n",
            "..            ...          ...           ...          ...      ...\n",
            "145           6.7          3.0           5.2          2.3        2\n",
            "146           6.3          2.5           5.0          1.9        2\n",
            "147           6.5          3.0           5.2          2.0        2\n",
            "148           6.2          3.4           5.4          2.3        2\n",
            "149           5.9          3.0           5.1          1.8        2\n",
            "\n",
            "[150 rows x 5 columns]\n"
          ]
        }
      ]
    },
    {
      "cell_type": "markdown",
      "source": [
        "e os tipos dos atributos:"
      ],
      "metadata": {
        "id": "hIjsE1riMwpY"
      },
      "id": "hIjsE1riMwpY"
    },
    {
      "cell_type": "code",
      "execution_count": null,
      "id": "401e5328",
      "metadata": {
        "id": "401e5328",
        "outputId": "a6d34302-6899-44f9-a5d6-40f8cae645e7",
        "colab": {
          "base_uri": "https://localhost:8080/"
        }
      },
      "outputs": [
        {
          "output_type": "execute_result",
          "data": {
            "text/plain": [
              "Sepal_Length    float64\n",
              "Sepal_Width     float64\n",
              "Petal_Length    float64\n",
              "Petal_Width     float64\n",
              "Species           int64\n",
              "dtype: object"
            ]
          },
          "metadata": {},
          "execution_count": 23
        }
      ],
      "source": [
        "iris_df.dtypes"
      ]
    },
    {
      "cell_type": "markdown",
      "source": [
        "o conjunto de dados tem a seguinte dimensão"
      ],
      "metadata": {
        "id": "nGZIrq0OMjui"
      },
      "id": "nGZIrq0OMjui"
    },
    {
      "cell_type": "code",
      "execution_count": null,
      "id": "2b567ed1",
      "metadata": {
        "id": "2b567ed1",
        "outputId": "515e560e-9963-4c69-f1cf-2b5f7460ad24",
        "colab": {
          "base_uri": "https://localhost:8080/"
        }
      },
      "outputs": [
        {
          "output_type": "execute_result",
          "data": {
            "text/plain": [
              "(150, 5)"
            ]
          },
          "metadata": {},
          "execution_count": 24
        }
      ],
      "source": [
        "iris_df.shape"
      ]
    },
    {
      "cell_type": "markdown",
      "source": [
        "Para se ter um exemplo do conjunto de dados, apresenta-se os quatro primeiros conjuntos de dados do dataset:"
      ],
      "metadata": {
        "id": "SsV7ZPSHMtN5"
      },
      "id": "SsV7ZPSHMtN5"
    },
    {
      "cell_type": "code",
      "execution_count": null,
      "id": "df92fb4d",
      "metadata": {
        "colab": {
          "base_uri": "https://localhost:8080/",
          "height": 206
        },
        "id": "df92fb4d",
        "outputId": "c8e61ae6-5c38-4670-e165-16d358d552b4"
      },
      "outputs": [
        {
          "output_type": "execute_result",
          "data": {
            "text/plain": [
              "   Sepal_Length  Sepal_Width  Petal_Length  Petal_Width  Species\n",
              "0           5.1          3.5           1.4          0.2        0\n",
              "1           4.9          3.0           1.4          0.2        0\n",
              "2           4.7          3.2           1.3          0.2        0\n",
              "3           4.6          3.1           1.5          0.2        0\n",
              "4           5.0          3.6           1.4          0.2        0"
            ],
            "text/html": [
              "\n",
              "  <div id=\"df-e1f20b6c-d4f3-453f-96e8-3a9fecc91328\">\n",
              "    <div class=\"colab-df-container\">\n",
              "      <div>\n",
              "<style scoped>\n",
              "    .dataframe tbody tr th:only-of-type {\n",
              "        vertical-align: middle;\n",
              "    }\n",
              "\n",
              "    .dataframe tbody tr th {\n",
              "        vertical-align: top;\n",
              "    }\n",
              "\n",
              "    .dataframe thead th {\n",
              "        text-align: right;\n",
              "    }\n",
              "</style>\n",
              "<table border=\"1\" class=\"dataframe\">\n",
              "  <thead>\n",
              "    <tr style=\"text-align: right;\">\n",
              "      <th></th>\n",
              "      <th>Sepal_Length</th>\n",
              "      <th>Sepal_Width</th>\n",
              "      <th>Petal_Length</th>\n",
              "      <th>Petal_Width</th>\n",
              "      <th>Species</th>\n",
              "    </tr>\n",
              "  </thead>\n",
              "  <tbody>\n",
              "    <tr>\n",
              "      <th>0</th>\n",
              "      <td>5.1</td>\n",
              "      <td>3.5</td>\n",
              "      <td>1.4</td>\n",
              "      <td>0.2</td>\n",
              "      <td>0</td>\n",
              "    </tr>\n",
              "    <tr>\n",
              "      <th>1</th>\n",
              "      <td>4.9</td>\n",
              "      <td>3.0</td>\n",
              "      <td>1.4</td>\n",
              "      <td>0.2</td>\n",
              "      <td>0</td>\n",
              "    </tr>\n",
              "    <tr>\n",
              "      <th>2</th>\n",
              "      <td>4.7</td>\n",
              "      <td>3.2</td>\n",
              "      <td>1.3</td>\n",
              "      <td>0.2</td>\n",
              "      <td>0</td>\n",
              "    </tr>\n",
              "    <tr>\n",
              "      <th>3</th>\n",
              "      <td>4.6</td>\n",
              "      <td>3.1</td>\n",
              "      <td>1.5</td>\n",
              "      <td>0.2</td>\n",
              "      <td>0</td>\n",
              "    </tr>\n",
              "    <tr>\n",
              "      <th>4</th>\n",
              "      <td>5.0</td>\n",
              "      <td>3.6</td>\n",
              "      <td>1.4</td>\n",
              "      <td>0.2</td>\n",
              "      <td>0</td>\n",
              "    </tr>\n",
              "  </tbody>\n",
              "</table>\n",
              "</div>\n",
              "      <button class=\"colab-df-convert\" onclick=\"convertToInteractive('df-e1f20b6c-d4f3-453f-96e8-3a9fecc91328')\"\n",
              "              title=\"Convert this dataframe to an interactive table.\"\n",
              "              style=\"display:none;\">\n",
              "        \n",
              "  <svg xmlns=\"http://www.w3.org/2000/svg\" height=\"24px\"viewBox=\"0 0 24 24\"\n",
              "       width=\"24px\">\n",
              "    <path d=\"M0 0h24v24H0V0z\" fill=\"none\"/>\n",
              "    <path d=\"M18.56 5.44l.94 2.06.94-2.06 2.06-.94-2.06-.94-.94-2.06-.94 2.06-2.06.94zm-11 1L8.5 8.5l.94-2.06 2.06-.94-2.06-.94L8.5 2.5l-.94 2.06-2.06.94zm10 10l.94 2.06.94-2.06 2.06-.94-2.06-.94-.94-2.06-.94 2.06-2.06.94z\"/><path d=\"M17.41 7.96l-1.37-1.37c-.4-.4-.92-.59-1.43-.59-.52 0-1.04.2-1.43.59L10.3 9.45l-7.72 7.72c-.78.78-.78 2.05 0 2.83L4 21.41c.39.39.9.59 1.41.59.51 0 1.02-.2 1.41-.59l7.78-7.78 2.81-2.81c.8-.78.8-2.07 0-2.86zM5.41 20L4 18.59l7.72-7.72 1.47 1.35L5.41 20z\"/>\n",
              "  </svg>\n",
              "      </button>\n",
              "      \n",
              "  <style>\n",
              "    .colab-df-container {\n",
              "      display:flex;\n",
              "      flex-wrap:wrap;\n",
              "      gap: 12px;\n",
              "    }\n",
              "\n",
              "    .colab-df-convert {\n",
              "      background-color: #E8F0FE;\n",
              "      border: none;\n",
              "      border-radius: 50%;\n",
              "      cursor: pointer;\n",
              "      display: none;\n",
              "      fill: #1967D2;\n",
              "      height: 32px;\n",
              "      padding: 0 0 0 0;\n",
              "      width: 32px;\n",
              "    }\n",
              "\n",
              "    .colab-df-convert:hover {\n",
              "      background-color: #E2EBFA;\n",
              "      box-shadow: 0px 1px 2px rgba(60, 64, 67, 0.3), 0px 1px 3px 1px rgba(60, 64, 67, 0.15);\n",
              "      fill: #174EA6;\n",
              "    }\n",
              "\n",
              "    [theme=dark] .colab-df-convert {\n",
              "      background-color: #3B4455;\n",
              "      fill: #D2E3FC;\n",
              "    }\n",
              "\n",
              "    [theme=dark] .colab-df-convert:hover {\n",
              "      background-color: #434B5C;\n",
              "      box-shadow: 0px 1px 3px 1px rgba(0, 0, 0, 0.15);\n",
              "      filter: drop-shadow(0px 1px 2px rgba(0, 0, 0, 0.3));\n",
              "      fill: #FFFFFF;\n",
              "    }\n",
              "  </style>\n",
              "\n",
              "      <script>\n",
              "        const buttonEl =\n",
              "          document.querySelector('#df-e1f20b6c-d4f3-453f-96e8-3a9fecc91328 button.colab-df-convert');\n",
              "        buttonEl.style.display =\n",
              "          google.colab.kernel.accessAllowed ? 'block' : 'none';\n",
              "\n",
              "        async function convertToInteractive(key) {\n",
              "          const element = document.querySelector('#df-e1f20b6c-d4f3-453f-96e8-3a9fecc91328');\n",
              "          const dataTable =\n",
              "            await google.colab.kernel.invokeFunction('convertToInteractive',\n",
              "                                                     [key], {});\n",
              "          if (!dataTable) return;\n",
              "\n",
              "          const docLinkHtml = 'Like what you see? Visit the ' +\n",
              "            '<a target=\"_blank\" href=https://colab.research.google.com/notebooks/data_table.ipynb>data table notebook</a>'\n",
              "            + ' to learn more about interactive tables.';\n",
              "          element.innerHTML = '';\n",
              "          dataTable['output_type'] = 'display_data';\n",
              "          await google.colab.output.renderOutput(dataTable, element);\n",
              "          const docLink = document.createElement('div');\n",
              "          docLink.innerHTML = docLinkHtml;\n",
              "          element.appendChild(docLink);\n",
              "        }\n",
              "      </script>\n",
              "    </div>\n",
              "  </div>\n",
              "  "
            ]
          },
          "metadata": {},
          "execution_count": 25
        }
      ],
      "source": [
        "iris_df.head()"
      ]
    },
    {
      "cell_type": "markdown",
      "id": "1dee143d",
      "metadata": {
        "id": "1dee143d"
      },
      "source": [
        "Para fins de análise em muitas situações é importante manipular partes específicas do dataset. Apresenta-se a seguir algumas opções de seleção de dados.\n",
        "\n",
        "A primeira é selecionando uma coluna do conjunto de dsdos por nome do atributo (dataframe):"
      ]
    },
    {
      "cell_type": "code",
      "execution_count": null,
      "id": "160e7ef8",
      "metadata": {
        "id": "160e7ef8",
        "outputId": "1e3c2561-8705-4cca-b41f-13a13276bca9",
        "colab": {
          "base_uri": "https://localhost:8080/"
        }
      },
      "outputs": [
        {
          "output_type": "stream",
          "name": "stdout",
          "text": [
            "0      5.1\n",
            "1      4.9\n",
            "2      4.7\n",
            "3      4.6\n",
            "4      5.0\n",
            "      ... \n",
            "145    6.7\n",
            "146    6.3\n",
            "147    6.5\n",
            "148    6.2\n",
            "149    5.9\n",
            "Name: Sepal_Length, Length: 150, dtype: float64\n"
          ]
        }
      ],
      "source": [
        "sl = iris_df[\"Sepal_Length\"]\n",
        "print(sl)"
      ]
    },
    {
      "cell_type": "markdown",
      "source": [
        "De forma equivalente se pode manipular pelo indice da coluna (matricial):"
      ],
      "metadata": {
        "id": "lnpybNrvOvnx"
      },
      "id": "lnpybNrvOvnx"
    },
    {
      "cell_type": "code",
      "execution_count": null,
      "id": "a67406fd",
      "metadata": {
        "id": "a67406fd",
        "outputId": "d4c1e4ab-5424-49e6-8d27-683de90ef592",
        "colab": {
          "base_uri": "https://localhost:8080/"
        }
      },
      "outputs": [
        {
          "output_type": "execute_result",
          "data": {
            "text/plain": [
              "0      5.1\n",
              "1      4.9\n",
              "2      4.7\n",
              "3      4.6\n",
              "4      5.0\n",
              "      ... \n",
              "145    6.7\n",
              "146    6.3\n",
              "147    6.5\n",
              "148    6.2\n",
              "149    5.9\n",
              "Name: Sepal_Length, Length: 150, dtype: float64"
            ]
          },
          "metadata": {},
          "execution_count": 27
        }
      ],
      "source": [
        "sl = iris_df.iloc[: ,0]\n",
        "sl"
      ]
    },
    {
      "cell_type": "markdown",
      "id": "75209e7e",
      "metadata": {
        "id": "75209e7e"
      },
      "source": [
        "Pode-se ainda selecionar mais de uma coluna do conjunto de dados:"
      ]
    },
    {
      "cell_type": "code",
      "execution_count": null,
      "id": "5f972c6f",
      "metadata": {
        "id": "5f972c6f",
        "outputId": "dafb5670-0a16-4399-ff4b-e11d205e4fc4",
        "colab": {
          "base_uri": "https://localhost:8080/"
        }
      },
      "outputs": [
        {
          "output_type": "stream",
          "name": "stdout",
          "text": [
            "     Sepal_Length  Sepal_Width\n",
            "0             5.1          3.5\n",
            "1             4.9          3.0\n",
            "2             4.7          3.2\n",
            "3             4.6          3.1\n",
            "4             5.0          3.6\n",
            "..            ...          ...\n",
            "145           6.7          3.0\n",
            "146           6.3          2.5\n",
            "147           6.5          3.0\n",
            "148           6.2          3.4\n",
            "149           5.9          3.0\n",
            "\n",
            "[150 rows x 2 columns]\n"
          ]
        }
      ],
      "source": [
        "sel_cols = iris_df.iloc[:,[0,1]]\n",
        "print(sel_cols)"
      ]
    },
    {
      "cell_type": "markdown",
      "id": "92d91076",
      "metadata": {
        "id": "92d91076"
      },
      "source": [
        "\n",
        "De forma análoga a manipulação de atributos, pode-se manipular as linhas como segue o exemplo abaixo que seleciona os cinco primeiros conjuntos de dados e as duas primeiras colunas do dataset:"
      ]
    },
    {
      "cell_type": "code",
      "execution_count": null,
      "id": "ef272da8",
      "metadata": {
        "id": "ef272da8",
        "outputId": "334fb7ff-2a03-4521-d595-4d62c4c819f2",
        "colab": {
          "base_uri": "https://localhost:8080/"
        }
      },
      "outputs": [
        {
          "output_type": "stream",
          "name": "stdout",
          "text": [
            "   Sepal_Length  Sepal_Width\n",
            "0           5.1          3.5\n",
            "1           4.9          3.0\n",
            "2           4.7          3.2\n",
            "3           4.6          3.1\n",
            "4           5.0          3.6\n"
          ]
        }
      ],
      "source": [
        "sel_rows = iris_df.iloc[0:5,[0,1]]\n",
        "print(sel_rows)"
      ]
    },
    {
      "cell_type": "markdown",
      "source": [
        "Agora inicia-se a etapa de análise exploratória de dados. A primeira análise é feita por um resumo estatístico do conjunto de dados:"
      ],
      "metadata": {
        "id": "KANGGT3zPYRY"
      },
      "id": "KANGGT3zPYRY"
    },
    {
      "cell_type": "code",
      "execution_count": null,
      "id": "1c5b07cc",
      "metadata": {
        "id": "1c5b07cc",
        "colab": {
          "base_uri": "https://localhost:8080/",
          "height": 300
        },
        "outputId": "d5340a4c-1123-4c73-e2ef-9413d235aafd"
      },
      "outputs": [
        {
          "output_type": "execute_result",
          "data": {
            "text/plain": [
              "       Sepal_Length  Sepal_Width  Petal_Length  Petal_Width     Species\n",
              "count    150.000000   150.000000    150.000000   150.000000  150.000000\n",
              "mean       5.843333     3.057333      3.758000     1.199333    1.000000\n",
              "std        0.828066     0.435866      1.765298     0.762238    0.819232\n",
              "min        4.300000     2.000000      1.000000     0.100000    0.000000\n",
              "25%        5.100000     2.800000      1.600000     0.300000    0.000000\n",
              "50%        5.800000     3.000000      4.350000     1.300000    1.000000\n",
              "75%        6.400000     3.300000      5.100000     1.800000    2.000000\n",
              "max        7.900000     4.400000      6.900000     2.500000    2.000000"
            ],
            "text/html": [
              "\n",
              "  <div id=\"df-59b54026-5459-4991-bf91-5eb3895b5d52\">\n",
              "    <div class=\"colab-df-container\">\n",
              "      <div>\n",
              "<style scoped>\n",
              "    .dataframe tbody tr th:only-of-type {\n",
              "        vertical-align: middle;\n",
              "    }\n",
              "\n",
              "    .dataframe tbody tr th {\n",
              "        vertical-align: top;\n",
              "    }\n",
              "\n",
              "    .dataframe thead th {\n",
              "        text-align: right;\n",
              "    }\n",
              "</style>\n",
              "<table border=\"1\" class=\"dataframe\">\n",
              "  <thead>\n",
              "    <tr style=\"text-align: right;\">\n",
              "      <th></th>\n",
              "      <th>Sepal_Length</th>\n",
              "      <th>Sepal_Width</th>\n",
              "      <th>Petal_Length</th>\n",
              "      <th>Petal_Width</th>\n",
              "      <th>Species</th>\n",
              "    </tr>\n",
              "  </thead>\n",
              "  <tbody>\n",
              "    <tr>\n",
              "      <th>count</th>\n",
              "      <td>150.000000</td>\n",
              "      <td>150.000000</td>\n",
              "      <td>150.000000</td>\n",
              "      <td>150.000000</td>\n",
              "      <td>150.000000</td>\n",
              "    </tr>\n",
              "    <tr>\n",
              "      <th>mean</th>\n",
              "      <td>5.843333</td>\n",
              "      <td>3.057333</td>\n",
              "      <td>3.758000</td>\n",
              "      <td>1.199333</td>\n",
              "      <td>1.000000</td>\n",
              "    </tr>\n",
              "    <tr>\n",
              "      <th>std</th>\n",
              "      <td>0.828066</td>\n",
              "      <td>0.435866</td>\n",
              "      <td>1.765298</td>\n",
              "      <td>0.762238</td>\n",
              "      <td>0.819232</td>\n",
              "    </tr>\n",
              "    <tr>\n",
              "      <th>min</th>\n",
              "      <td>4.300000</td>\n",
              "      <td>2.000000</td>\n",
              "      <td>1.000000</td>\n",
              "      <td>0.100000</td>\n",
              "      <td>0.000000</td>\n",
              "    </tr>\n",
              "    <tr>\n",
              "      <th>25%</th>\n",
              "      <td>5.100000</td>\n",
              "      <td>2.800000</td>\n",
              "      <td>1.600000</td>\n",
              "      <td>0.300000</td>\n",
              "      <td>0.000000</td>\n",
              "    </tr>\n",
              "    <tr>\n",
              "      <th>50%</th>\n",
              "      <td>5.800000</td>\n",
              "      <td>3.000000</td>\n",
              "      <td>4.350000</td>\n",
              "      <td>1.300000</td>\n",
              "      <td>1.000000</td>\n",
              "    </tr>\n",
              "    <tr>\n",
              "      <th>75%</th>\n",
              "      <td>6.400000</td>\n",
              "      <td>3.300000</td>\n",
              "      <td>5.100000</td>\n",
              "      <td>1.800000</td>\n",
              "      <td>2.000000</td>\n",
              "    </tr>\n",
              "    <tr>\n",
              "      <th>max</th>\n",
              "      <td>7.900000</td>\n",
              "      <td>4.400000</td>\n",
              "      <td>6.900000</td>\n",
              "      <td>2.500000</td>\n",
              "      <td>2.000000</td>\n",
              "    </tr>\n",
              "  </tbody>\n",
              "</table>\n",
              "</div>\n",
              "      <button class=\"colab-df-convert\" onclick=\"convertToInteractive('df-59b54026-5459-4991-bf91-5eb3895b5d52')\"\n",
              "              title=\"Convert this dataframe to an interactive table.\"\n",
              "              style=\"display:none;\">\n",
              "        \n",
              "  <svg xmlns=\"http://www.w3.org/2000/svg\" height=\"24px\"viewBox=\"0 0 24 24\"\n",
              "       width=\"24px\">\n",
              "    <path d=\"M0 0h24v24H0V0z\" fill=\"none\"/>\n",
              "    <path d=\"M18.56 5.44l.94 2.06.94-2.06 2.06-.94-2.06-.94-.94-2.06-.94 2.06-2.06.94zm-11 1L8.5 8.5l.94-2.06 2.06-.94-2.06-.94L8.5 2.5l-.94 2.06-2.06.94zm10 10l.94 2.06.94-2.06 2.06-.94-2.06-.94-.94-2.06-.94 2.06-2.06.94z\"/><path d=\"M17.41 7.96l-1.37-1.37c-.4-.4-.92-.59-1.43-.59-.52 0-1.04.2-1.43.59L10.3 9.45l-7.72 7.72c-.78.78-.78 2.05 0 2.83L4 21.41c.39.39.9.59 1.41.59.51 0 1.02-.2 1.41-.59l7.78-7.78 2.81-2.81c.8-.78.8-2.07 0-2.86zM5.41 20L4 18.59l7.72-7.72 1.47 1.35L5.41 20z\"/>\n",
              "  </svg>\n",
              "      </button>\n",
              "      \n",
              "  <style>\n",
              "    .colab-df-container {\n",
              "      display:flex;\n",
              "      flex-wrap:wrap;\n",
              "      gap: 12px;\n",
              "    }\n",
              "\n",
              "    .colab-df-convert {\n",
              "      background-color: #E8F0FE;\n",
              "      border: none;\n",
              "      border-radius: 50%;\n",
              "      cursor: pointer;\n",
              "      display: none;\n",
              "      fill: #1967D2;\n",
              "      height: 32px;\n",
              "      padding: 0 0 0 0;\n",
              "      width: 32px;\n",
              "    }\n",
              "\n",
              "    .colab-df-convert:hover {\n",
              "      background-color: #E2EBFA;\n",
              "      box-shadow: 0px 1px 2px rgba(60, 64, 67, 0.3), 0px 1px 3px 1px rgba(60, 64, 67, 0.15);\n",
              "      fill: #174EA6;\n",
              "    }\n",
              "\n",
              "    [theme=dark] .colab-df-convert {\n",
              "      background-color: #3B4455;\n",
              "      fill: #D2E3FC;\n",
              "    }\n",
              "\n",
              "    [theme=dark] .colab-df-convert:hover {\n",
              "      background-color: #434B5C;\n",
              "      box-shadow: 0px 1px 3px 1px rgba(0, 0, 0, 0.15);\n",
              "      filter: drop-shadow(0px 1px 2px rgba(0, 0, 0, 0.3));\n",
              "      fill: #FFFFFF;\n",
              "    }\n",
              "  </style>\n",
              "\n",
              "      <script>\n",
              "        const buttonEl =\n",
              "          document.querySelector('#df-59b54026-5459-4991-bf91-5eb3895b5d52 button.colab-df-convert');\n",
              "        buttonEl.style.display =\n",
              "          google.colab.kernel.accessAllowed ? 'block' : 'none';\n",
              "\n",
              "        async function convertToInteractive(key) {\n",
              "          const element = document.querySelector('#df-59b54026-5459-4991-bf91-5eb3895b5d52');\n",
              "          const dataTable =\n",
              "            await google.colab.kernel.invokeFunction('convertToInteractive',\n",
              "                                                     [key], {});\n",
              "          if (!dataTable) return;\n",
              "\n",
              "          const docLinkHtml = 'Like what you see? Visit the ' +\n",
              "            '<a target=\"_blank\" href=https://colab.research.google.com/notebooks/data_table.ipynb>data table notebook</a>'\n",
              "            + ' to learn more about interactive tables.';\n",
              "          element.innerHTML = '';\n",
              "          dataTable['output_type'] = 'display_data';\n",
              "          await google.colab.output.renderOutput(dataTable, element);\n",
              "          const docLink = document.createElement('div');\n",
              "          docLink.innerHTML = docLinkHtml;\n",
              "          element.appendChild(docLink);\n",
              "        }\n",
              "      </script>\n",
              "    </div>\n",
              "  </div>\n",
              "  "
            ]
          },
          "metadata": {},
          "execution_count": 30
        }
      ],
      "source": [
        "iris_df.describe()"
      ]
    },
    {
      "cell_type": "markdown",
      "id": "75eaafbf",
      "metadata": {
        "id": "75eaafbf"
      },
      "source": [
        "Porém se pode fazer medidas específicas com cálculos de estatística exploratória. Separando um atributo do dataset para os exemplos:"
      ]
    },
    {
      "cell_type": "code",
      "source": [
        "sl = iris_df[\"Sepal_Length\"]"
      ],
      "metadata": {
        "id": "FPuGdGVyQRAc"
      },
      "id": "FPuGdGVyQRAc",
      "execution_count": null,
      "outputs": []
    },
    {
      "cell_type": "markdown",
      "source": [
        "Calculando a média:"
      ],
      "metadata": {
        "id": "trWJu9ksQdWq"
      },
      "id": "trWJu9ksQdWq"
    },
    {
      "cell_type": "code",
      "execution_count": null,
      "id": "2f1bc5d4",
      "metadata": {
        "colab": {
          "base_uri": "https://localhost:8080/"
        },
        "id": "2f1bc5d4",
        "outputId": "800d1690-6cbc-4ea9-db58-f93038daf85f"
      },
      "outputs": [
        {
          "output_type": "stream",
          "name": "stdout",
          "text": [
            "5.843333333333334\n"
          ]
        }
      ],
      "source": [
        "media_sl = np.mean(sl)\n",
        "print(media_sl)"
      ]
    },
    {
      "cell_type": "markdown",
      "id": "28f6b106",
      "metadata": {
        "id": "28f6b106"
      },
      "source": [
        "mediana:"
      ]
    },
    {
      "cell_type": "code",
      "execution_count": null,
      "id": "3eabf2a1",
      "metadata": {
        "id": "3eabf2a1",
        "outputId": "95578e1d-38e8-44a0-d7cc-9b4e1293f8a4",
        "colab": {
          "base_uri": "https://localhost:8080/"
        }
      },
      "outputs": [
        {
          "output_type": "stream",
          "name": "stdout",
          "text": [
            "5.8\n"
          ]
        }
      ],
      "source": [
        "mediana_sl = np.median(sl)\n",
        "print(mediana_sl)"
      ]
    },
    {
      "cell_type": "markdown",
      "id": "0fd3f6f8",
      "metadata": {
        "id": "0fd3f6f8"
      },
      "source": [
        "variância"
      ]
    },
    {
      "cell_type": "code",
      "execution_count": null,
      "id": "dc680fbc",
      "metadata": {
        "id": "dc680fbc",
        "outputId": "47a6a679-4a59-43db-a264-cd1cb711217c",
        "colab": {
          "base_uri": "https://localhost:8080/"
        }
      },
      "outputs": [
        {
          "output_type": "stream",
          "name": "stdout",
          "text": [
            "0.6811222222222223\n"
          ]
        }
      ],
      "source": [
        "variancia_sl = np.var(sl)\n",
        "print(variancia_sl)"
      ]
    },
    {
      "cell_type": "markdown",
      "source": [
        "desvio padrão"
      ],
      "metadata": {
        "id": "nVnPNRhbJJpP"
      },
      "id": "nVnPNRhbJJpP"
    },
    {
      "cell_type": "code",
      "execution_count": null,
      "id": "ce2c9904",
      "metadata": {
        "id": "ce2c9904",
        "outputId": "5cfd76e5-3909-4adc-edfc-86041822c471",
        "colab": {
          "base_uri": "https://localhost:8080/"
        }
      },
      "outputs": [
        {
          "output_type": "stream",
          "name": "stdout",
          "text": [
            "0.8253012917851409\n"
          ]
        }
      ],
      "source": [
        "desvio_padrao_sl = np.std(sl)\n",
        "print(desvio_padrao_sl)"
      ]
    },
    {
      "cell_type": "markdown",
      "id": "f927828c",
      "metadata": {
        "id": "f927828c"
      },
      "source": [
        "Assim como é importante os cálculos de medias de resumo estatístico, também é importante se ter informações das faixas de valores. Por exemplo, valor minimo do atributo:"
      ]
    },
    {
      "cell_type": "code",
      "execution_count": null,
      "id": "d9403984",
      "metadata": {
        "id": "d9403984",
        "colab": {
          "base_uri": "https://localhost:8080/"
        },
        "outputId": "fabadf1d-fe19-4f7f-b07b-1c82f6992346"
      },
      "outputs": [
        {
          "output_type": "stream",
          "name": "stdout",
          "text": [
            "4.3\n"
          ]
        }
      ],
      "source": [
        "sl_min = np.min(sl)\n",
        "print(sl_min)"
      ]
    },
    {
      "cell_type": "markdown",
      "id": "7550a295",
      "metadata": {
        "id": "7550a295"
      },
      "source": [
        "valor máximo"
      ]
    },
    {
      "cell_type": "code",
      "execution_count": null,
      "id": "151fec34",
      "metadata": {
        "id": "151fec34",
        "outputId": "1eae2403-f9ec-4026-945f-f54e3d1f96e2",
        "colab": {
          "base_uri": "https://localhost:8080/"
        }
      },
      "outputs": [
        {
          "output_type": "stream",
          "name": "stdout",
          "text": [
            "7.9\n"
          ]
        }
      ],
      "source": [
        "sl_max = np.max(sl)\n",
        "print(sl_max)"
      ]
    },
    {
      "cell_type": "markdown",
      "source": [
        "Agora se inicia a análise exploratória visual dos dados. A primeira é um gráfico de dispersão:"
      ],
      "metadata": {
        "id": "yxdkBE-LQ-jW"
      },
      "id": "yxdkBE-LQ-jW"
    },
    {
      "cell_type": "code",
      "execution_count": null,
      "id": "de894d41",
      "metadata": {
        "id": "de894d41",
        "colab": {
          "base_uri": "https://localhost:8080/",
          "height": 296
        },
        "outputId": "b6983f06-ac9c-40e7-c464-aa40f090800a"
      },
      "outputs": [
        {
          "output_type": "display_data",
          "data": {
            "text/plain": [
              "<Figure size 432x288 with 1 Axes>"
            ],
            "image/png": "[encoded data removed]"
          },
          "metadata": {
            "needs_background": "light"
          }
        }
      ],
      "source": [
        "X = iris.data[:, :4]\n",
        "y = iris.target\n",
        "plt.scatter(X[:, 0], X[:, 1], c=y, label=y)\n",
        "plt.title(\"Dispersão de dois atributos da planta Iris\")\n",
        "plt.xlabel(\"Sepal_Length\")\n",
        "plt.ylabel(\"Sepal_Width\")\n",
        "plt.show()"
      ]
    },
    {
      "cell_type": "code",
      "execution_count": null,
      "id": "048f884f",
      "metadata": {
        "id": "048f884f"
      },
      "outputs": [],
      "source": [
        "iris_df = datasets.load_iris(return_X_y=True, as_frame=True)"
      ]
    },
    {
      "cell_type": "code",
      "execution_count": null,
      "id": "53da65e8",
      "metadata": {
        "id": "53da65e8",
        "colab": {
          "base_uri": "https://localhost:8080/",
          "height": 296
        },
        "outputId": "8a17908a-7d0f-4c51-f814-bd81921713d7"
      },
      "outputs": [
        {
          "output_type": "display_data",
          "data": {
            "text/plain": [
              "<Figure size 432x288 with 1 Axes>"
            ],
            "image/png": "[encoded data removed]"
          },
          "metadata": {
            "needs_background": "light"
          }
        }
      ],
      "source": [
        "plt.scatter(iris_df[\"Sepal_Length\"], iris_df[\"Sepal_Width\"], c=iris_df[\"Species\"], label=iris_df[\"Species\"])\n",
        "plt.title(\"Dispersão de dois atributos da planta Iris\")\n",
        "plt.xlabel(\"Sepal_Length\")\n",
        "plt.ylabel(\"Sepal_Width\")\n",
        "plt.show()\n"
      ]
    },
    {
      "cell_type": "code",
      "execution_count": null,
      "id": "e9848dac",
      "metadata": {
        "colab": {
          "base_uri": "https://localhost:8080/",
          "height": 313
        },
        "id": "e9848dac",
        "outputId": "965357d0-a2fb-422f-a66e-cd2819b764a0"
      },
      "outputs": [
        {
          "output_type": "execute_result",
          "data": {
            "text/plain": [
              "<matplotlib.legend.Legend at 0x7f2664570690>"
            ]
          },
          "metadata": {},
          "execution_count": 46
        },
        {
          "output_type": "display_data",
          "data": {
            "text/plain": [
              "<Figure size 432x288 with 1 Axes>"
            ],
            "image/png": "[encoded data removed]"
          },
          "metadata": {
            "needs_background": "light"
          }
        }
      ],
      "source": [
        "setosa = iris_df[iris_df[\"Species\"] == 0]\n",
        "versicolor = iris_df[iris_df[\"Species\"] == 1]\n",
        "virginica = iris_df[iris_df[\"Species\"] == 2]\n",
        "\n",
        "fig, ax = plt.subplots()\n",
        "points = ax.scatter(setosa[\"Sepal_Length\"], setosa[\"Sepal_Width\"], label=\"setosa\", facecolor=\"purple\")\n",
        "ax.scatter(versicolor[\"Sepal_Length\"], versicolor[\"Sepal_Width\"], label=\"versicolor\", facecolor=\"green\")\n",
        "ax.scatter(virginica[\"Sepal_Length\"], virginica[\"Sepal_Width\"], label=\"virginica\", facecolor=\"yellow\")\n",
        "\n",
        "ax.set_title(\"Iris Petal Sizes\")\n",
        "ax.set_xlabel(\"Petal_Length\")\n",
        "ax.set_ylabel(\"Petal_Width\")\n",
        "ax.legend()\n"
      ]
    },
    {
      "cell_type": "markdown",
      "source": [
        "Em outras análises se deseja saber a distribuição de um atributo específico:"
      ],
      "metadata": {
        "id": "M7NEmhpkJbwi"
      },
      "id": "M7NEmhpkJbwi"
    },
    {
      "cell_type": "code",
      "execution_count": null,
      "id": "799f8af6",
      "metadata": {
        "colab": {
          "base_uri": "https://localhost:8080/",
          "height": 312
        },
        "id": "799f8af6",
        "outputId": "5a222dd7-1a8d-4fdc-bc26-51966a568a4f"
      },
      "outputs": [
        {
          "output_type": "execute_result",
          "data": {
            "text/plain": [
              "Text(0, 0.5, 'sepal length in cm')"
            ]
          },
          "metadata": {},
          "execution_count": 47
        },
        {
          "output_type": "display_data",
          "data": {
            "text/plain": [
              "<Figure size 432x288 with 1 Axes>"
            ],
            "image/png": "[encoded data removed]"
          },
          "metadata": {
            "needs_background": "light"
          }
        }
      ],
      "source": [
        "fig, ax = plt.subplots()\n",
        "ax.plot(sl, marker=\"o\")\n",
        "ax.set_title(\"Iris Sepal Length\")\n",
        "ax.set_xlabel(\"Object\")\n",
        "ax.set_ylabel(\"sepal length in cm\")"
      ]
    },
    {
      "cell_type": "code",
      "execution_count": null,
      "id": "2e4aba39",
      "metadata": {
        "colab": {
          "base_uri": "https://localhost:8080/",
          "height": 404
        },
        "id": "2e4aba39",
        "outputId": "8098d412-5d4e-48ae-ffb9-7c0794e7c77f"
      },
      "outputs": [
        {
          "output_type": "execute_result",
          "data": {
            "text/plain": [
              "{'whiskers': [<matplotlib.lines.Line2D at 0x7f26647a9a90>,\n",
              "  <matplotlib.lines.Line2D at 0x7f26647c7a90>],\n",
              " 'caps': [<matplotlib.lines.Line2D at 0x7f26647c7790>,\n",
              "  <matplotlib.lines.Line2D at 0x7f266481f590>],\n",
              " 'boxes': [<matplotlib.lines.Line2D at 0x7f26647a9a50>],\n",
              " 'medians': [<matplotlib.lines.Line2D at 0x7f266481f610>],\n",
              " 'fliers': [<matplotlib.lines.Line2D at 0x7f266481f9d0>],\n",
              " 'means': []}"
            ]
          },
          "metadata": {},
          "execution_count": 51
        },
        {
          "output_type": "display_data",
          "data": {
            "text/plain": [
              "<Figure size 432x288 with 1 Axes>"
            ],
            "image/png": "[encoded data removed]"
          },
          "metadata": {
            "needs_background": "light"
          }
        }
      ],
      "source": [
        "fig, ax = plt.subplots()\n",
        "ax.boxplot(iris_df[\"Sepal_Length\"])\n"
      ]
    },
    {
      "cell_type": "code",
      "execution_count": null,
      "id": "4c525428",
      "metadata": {
        "id": "4c525428",
        "colab": {
          "base_uri": "https://localhost:8080/",
          "height": 491
        },
        "outputId": "31423e1b-a569-4d95-ef61-62be329d9e10"
      },
      "outputs": [
        {
          "output_type": "stream",
          "name": "stderr",
          "text": [
            "/usr/local/lib/python3.7/dist-packages/ipykernel_launcher.py:1: SettingWithCopyWarning: \n",
            "A value is trying to be set on a copy of a slice from a DataFrame\n",
            "\n",
            "See the caveats in the documentation: https://pandas.pydata.org/pandas-docs/stable/user_guide/indexing.html#returning-a-view-versus-a-copy\n",
            "  \"\"\"Entry point for launching an IPython kernel.\n"
          ]
        },
        {
          "output_type": "execute_result",
          "data": {
            "text/plain": [
              "{'whiskers': [<matplotlib.lines.Line2D at 0x7f26645c4e10>,\n",
              "  <matplotlib.lines.Line2D at 0x7f26644b8650>],\n",
              " 'caps': [<matplotlib.lines.Line2D at 0x7f2664508710>,\n",
              "  <matplotlib.lines.Line2D at 0x7f2664542590>],\n",
              " 'boxes': [<matplotlib.lines.Line2D at 0x7f26645ab7d0>],\n",
              " 'medians': [<matplotlib.lines.Line2D at 0x7f2664516750>],\n",
              " 'fliers': [<matplotlib.lines.Line2D at 0x7f26644afc90>],\n",
              " 'means': []}"
            ]
          },
          "metadata": {},
          "execution_count": 49
        },
        {
          "output_type": "display_data",
          "data": {
            "text/plain": [
              "<Figure size 432x288 with 1 Axes>"
            ],
            "image/png": "[encoded data removed]"
          },
          "metadata": {
            "needs_background": "light"
          }
        }
      ],
      "source": [
        "sl[1] = 12#4.9#sl[1] + 10\n",
        "fig, ax = plt.subplots()\n",
        "ax.boxplot(sl)"
      ]
    },
    {
      "cell_type": "markdown",
      "id": "5dcc49d1",
      "metadata": {
        "id": "5dcc49d1"
      },
      "source": [
        "COLOCAR AQUI O GRAFICO DE DISPERSAO"
      ]
    },
    {
      "cell_type": "code",
      "execution_count": null,
      "id": "1ac32a06",
      "metadata": {
        "colab": {
          "base_uri": "https://localhost:8080/"
        },
        "id": "1ac32a06",
        "outputId": "e2da32cf-3122-4b1a-fbd2-ed7d8a60690f"
      },
      "outputs": [
        {
          "output_type": "stream",
          "name": "stdout",
          "text": [
            "[50 50 50]\n"
          ]
        }
      ],
      "source": [
        "count = np.histogram(iris_df[\"Species\"], bins=3)\n",
        "print(count[0])"
      ]
    },
    {
      "cell_type": "code",
      "execution_count": null,
      "id": "af13040f",
      "metadata": {
        "id": "af13040f",
        "colab": {
          "base_uri": "https://localhost:8080/",
          "height": 317
        },
        "outputId": "839b8378-28ec-4bfc-c3b0-d72fde94cd52"
      },
      "outputs": [
        {
          "output_type": "execute_result",
          "data": {
            "text/plain": [
              "(-1.100000018898756,\n",
              " 1.1000000353324482,\n",
              " -1.1000000262939185,\n",
              " 1.1000000098602216)"
            ]
          },
          "metadata": {},
          "execution_count": 53
        },
        {
          "output_type": "display_data",
          "data": {
            "text/plain": [
              "<Figure size 432x288 with 1 Axes>"
            ],
            "image/png": "[encoded data removed]"
          },
          "metadata": {}
        }
      ],
      "source": [
        "labels = ['setosa','versicolor','virginica']\n",
        "\n",
        "fig, ax = plt.subplots()\n",
        "ax.pie(count[0], labels = labels)\n",
        "ax.axis('equal')"
      ]
    },
    {
      "cell_type": "markdown",
      "source": [
        "Gráfico de histograma com a distribuição do SEPAL_LENGTH"
      ],
      "metadata": {
        "id": "DuLw5fefvV-S"
      },
      "id": "DuLw5fefvV-S"
    },
    {
      "cell_type": "code",
      "source": [
        "plt.hist(sl)\n",
        "plt.show()"
      ],
      "metadata": {
        "colab": {
          "base_uri": "https://localhost:8080/",
          "height": 268
        },
        "id": "brwJZWzDvWx2",
        "outputId": "ff4d180f-633d-4191-9713-c176966a0f1b"
      },
      "id": "brwJZWzDvWx2",
      "execution_count": null,
      "outputs": [
        {
          "output_type": "display_data",
          "data": {
            "text/plain": [
              "<Figure size 432x288 with 1 Axes>"
            ],
            "image/png": "[encoded data removed]"
          },
          "metadata": {
            "needs_background": "light"
          }
        }
      ]
    },
    {
      "cell_type": "markdown",
      "source": [
        "Existem ainda outras formas de plotagem como no exemplo abaixo:"
      ],
      "metadata": {
        "id": "r12kvp2PKDpK"
      },
      "id": "r12kvp2PKDpK"
    },
    {
      "cell_type": "code",
      "execution_count": null,
      "id": "b7319550",
      "metadata": {
        "id": "b7319550",
        "colab": {
          "base_uri": "https://localhost:8080/",
          "height": 265
        },
        "outputId": "ddf51810-c4f7-413e-bc94-009a160dae52"
      },
      "outputs": [
        {
          "output_type": "display_data",
          "data": {
            "text/plain": [
              "<Figure size 432x288 with 1 Axes>"
            ],
            "image/png": "[encoded data removed]"
          },
          "metadata": {
            "needs_background": "light"
          }
        }
      ],
      "source": [
        "N = 45\n",
        "x, y = np.random.rand(2, N)\n",
        "c = np.random.randint(1, 5, size=N)\n",
        "s = np.random.randint(10, 220, size=N)\n",
        "\n",
        "fig, ax = plt.subplots()\n",
        "\n",
        "scatter = ax.scatter(x, y, c=c, s=s)\n",
        "\n",
        "# produce a legend with the unique colors from the scatter\n",
        "legend1 = ax.legend(*scatter.legend_elements(),\n",
        "                    loc=\"lower left\", title=\"Classes\")\n",
        "ax.add_artist(legend1)\n",
        "\n",
        "# produce a legend with a cross section of sizes from the scatter\n",
        "handles, labels = scatter.legend_elements(prop=\"sizes\", alpha=0.6)\n",
        "legend2 = ax.legend(handles, labels, loc=\"upper right\", title=\"Sizes\")\n",
        "\n",
        "plt.show()"
      ]
    },
    {
      "cell_type": "markdown",
      "source": [
        "#**Exercícios**:"
      ],
      "metadata": {
        "id": "2ID_jDv4UMYW"
      },
      "id": "2ID_jDv4UMYW"
    },
    {
      "cell_type": "markdown",
      "id": "62c886d0",
      "metadata": {
        "id": "62c886d0"
      },
      "source": [
        "Referências\n",
        "\n",
        "https://www.w3schools.com/python/python_examples.asp\n",
        "\n",
        "https://pandas.pydata.org/docs/reference/api/pandas.DataFrame.html\n",
        "\n",
        "https://scikit-learn.org/stable/modules/generated/sklearn.datasets.load_iris.html#sklearn.datasets.load_iris\n",
        "\n",
        "https://stackabuse.com/matplotlib-pie-chart-tutorial-and-examples/\n",
        "\n",
        "https://numpy.org/doc/stable/reference/generated/numpy.histogram.html\n",
        "\n",
        "https://www.tutorialspoint.com/numpy/numpy_histogram_using_matplotlib.htm\n",
        "\n",
        "https://pandas.pydata.org/docs/reference/api/pandas.DataFrame.iloc.html\n",
        "\n",
        "https://pandas.pydata.org/docs/getting_started/intro_tutorials/03_subset_data.html\n",
        "\n",
        "https://www.w3schools.com/python/ref_string_count.asp\n"
      ]
    }
  ],
  "metadata": {
    "kernelspec": {
      "display_name": "Python 3 (Spyder)",
      "language": "python3",
      "name": "python3"
    },
    "language_info": {
      "codemirror_mode": {
        "name": "ipython",
        "version": 3
      },
      "file_extension": ".py",
      "mimetype": "text/x-python",
      "name": "python",
      "nbconvert_exporter": "python",
      "pygments_lexer": "ipython3",
      "version": "3.9.13"
    },
    "colab": {
      "name": "exploratory_analysis.ipynb",
      "provenance": [],
      "include_colab_link": true
    }
  },
  "nbformat": 4,
  "nbformat_minor": 5
}